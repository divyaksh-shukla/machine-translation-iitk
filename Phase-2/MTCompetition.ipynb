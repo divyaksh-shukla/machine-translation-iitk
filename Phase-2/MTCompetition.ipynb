{
 "cells": [
  {
   "cell_type": "markdown",
   "metadata": {},
   "source": [
    "# Phase 2\n",
    "Indian Languages to English translation"
   ]
  },
  {
   "cell_type": "markdown",
   "metadata": {},
   "source": [
    "## Libraries"
   ]
  },
  {
   "cell_type": "code",
   "execution_count": 10,
   "metadata": {},
   "outputs": [],
   "source": [
    "import pandas as pd\n",
    "from pandas import DataFrame\n",
    "import numpy as np\n",
    "import matplotlib.pyplot as plt\n",
    "\n",
    "import torch\n",
    "from torch.utils.data import Dataset, DataLoader, TensorDataset\n",
    "from torch import nn\n",
    "from torch import optim\n",
    "import torch.nn.functional as F\n",
    "from torch.nn.utils.rnn import pad_sequence\n",
    "from torch import Tensor\n",
    "from torch.utils.data import RandomSampler\n",
    "\n",
    "import os\n",
    "import math\n",
    "import json\n",
    "import csv\n",
    "import gc\n",
    "from time import strptime, localtime, strftime\n",
    "from tqdm import tqdm\n",
    "import logging\n",
    "from datetime import datetime\n",
    "\n",
    "from tokenizers import Tokenizer, SentencePieceBPETokenizer\n",
    "from tokenizers.models import BPE\n",
    "from tokenizers.pre_tokenizers import Whitespace\n",
    "from tokenizers.trainers import BpeTrainer\n",
    "\n",
    "from torch.utils.tensorboard import SummaryWriter"
   ]
  },
  {
   "cell_type": "markdown",
   "metadata": {},
   "source": [
    "## Settings"
   ]
  },
  {
   "cell_type": "code",
   "execution_count": 48,
   "metadata": {},
   "outputs": [],
   "source": [
    "MAX_LENGTH = 20\n",
    "\n",
    "EMBEDDING_DIM = 128\n",
    "ENCODER_HIDDEN_SIZE = 512\n",
    "DECODER_HIDDEN_SIZE = 512\n",
    "\n",
    "ENCODER_NUM_LAYERS = 1\n",
    "DECODER_NUM_LAYERS = 2\n",
    "N_ATTENTION_HEADS = 16\n",
    "\n",
    "MAX_VOCAB = 32_000\n",
    "\n",
    "SOURCE_VOCAB = 60_000\n",
    "TARGET_VOCAB = 10_000\n",
    "\n",
    "TRAIN_BATCH_SIZE = 10\n",
    "VAL_BATCH_SIZE = 256\n",
    "device = torch.device(\"cuda\" if torch.cuda.is_available() else \"cpu\")\n",
    "\n",
    "pd.set_option('mode.chained_assignment',None)\n",
    "os.environ['PYTORCH_NO_CUDA_MEMORY_CACHING'] = \"0\"\n",
    "os.environ['PYTORCH_CUDA_ALLOC_CONF'] = \"max_split_size_mb:100\"\n",
    "\n",
    "logging.basicConfig(filename='taurus.log', filemode='w+')"
   ]
  },
  {
   "cell_type": "markdown",
   "metadata": {},
   "source": [
    "##### Directories and experiment setup\n",
    "`experiment_id`: denotes the experiment ID in tensorboard image and the directory in which the data and model is saved"
   ]
  },
  {
   "cell_type": "code",
   "execution_count": 12,
   "metadata": {},
   "outputs": [
    {
     "name": "stdout",
     "output_type": "stream",
     "text": [
      "Experiment ID: transformer_e1_d2_h16_sp_batch_128x1_new_vocab_exp_2\n"
     ]
    }
   ],
   "source": [
    "project_dir = 'answers'\n",
    "# project_dir = '/content/drive/MyDrive/MT Competition/answers'\n",
    "\n",
    "time_val = strptime(\"26-10-23 16_00\", \"%d-%m-%y %H_%M\")\n",
    "\n",
    "experiment_id = 'transformer_e1_d2_h16_sp_batch_128x1_new_vocab_exp_2'\n",
    "print('Experiment ID:', experiment_id)\n",
    "\n",
    "import os\n",
    "dir_path = os.path.join('answers', experiment_id)\n",
    "if not(os.path.exists(dir_path)):\n",
    "    os.makedirs(dir_path)\n",
    "\n",
    "model_filepath = os.path.join('answers',experiment_id,f'TRF.pkl')\n",
    "answer_filepath = os.path.join('answers',experiment_id,f'answer.csv')\n",
    "writer = SummaryWriter(os.path.join(project_dir, 'transformer_logs', experiment_id), comment=strftime(\"%d-%m-%y %H_%M\", time_val))"
   ]
  },
  {
   "cell_type": "markdown",
   "metadata": {},
   "source": [
    "## Dataloader"
   ]
  },
  {
   "cell_type": "markdown",
   "metadata": {},
   "source": [
    "##### Read the json files and convert to DataFrame"
   ]
  },
  {
   "cell_type": "code",
   "execution_count": 13,
   "metadata": {},
   "outputs": [
    {
     "name": "stderr",
     "output_type": "stream",
     "text": [
      "Loading data: 100%|███████████████████████████████████████████████████| 7/7 [00:04<00:00,  1.73it/s]\n",
      "Loading data: 100%|███████████████████████████████████████████████████| 7/7 [00:00<00:00, 14.50it/s]\n",
      "Loading data: 100%|███████████████████████████████████████████████████| 7/7 [00:01<00:00,  6.17it/s]\n"
     ]
    }
   ],
   "source": [
    "# Convert json data files to DataFrames\n",
    "\n",
    "def convert_json_to_df(filepath) -> DataFrame:\n",
    "    with open(filepath, 'r', encoding='utf-8') as f:\n",
    "        data = pd.read_json(f)\n",
    "\n",
    "    languages = data.columns\n",
    "\n",
    "    all_data = []\n",
    "    for lang in tqdm(languages, ncols=100, desc=\"Loading data\"):\n",
    "        new_frame = DataFrame(data.iloc[0][lang]).T\n",
    "        new_frame['language'] = lang\n",
    "        all_data.append(new_frame)\n",
    "    \n",
    "    all_data = pd.concat(all_data)\n",
    "    return all_data\n",
    "\n",
    "data = convert_json_to_df('train_data2.json').dropna().reset_index(names=['id'])\n",
    "data['source_len'] = data['source'].apply(lambda x: len(x.split(' ')))\n",
    "data['target_len'] = data['target'].apply(lambda x: len(x.split(' ')))\n",
    "\n",
    "\n",
    "val_data = convert_json_to_df('val_data2.json').fillna('').reset_index(names=['id'])\n",
    "val_data['source_len'] = val_data['source'].apply(lambda x: len(x.split(' ')))\n",
    "\n",
    "test_data = convert_json_to_df('test_data2.json').fillna('').reset_index(names=['id'])\n",
    "test_data['source_len'] = test_data['source'].apply(lambda x: len(x))"
   ]
  },
  {
   "cell_type": "markdown",
   "metadata": {},
   "source": [
    "## Data Analysis"
   ]
  },
  {
   "cell_type": "markdown",
   "metadata": {},
   "source": [
    "Import data visualisation library (seaborn and matplotlib) and set the theme "
   ]
  },
  {
   "cell_type": "code",
   "execution_count": 14,
   "metadata": {},
   "outputs": [],
   "source": [
    "import matplotlib.pyplot as plt\n",
    "import seaborn as sns\n",
    "sns.set_theme('notebook')"
   ]
  },
  {
   "cell_type": "markdown",
   "metadata": {},
   "source": [
    "Getting statistics of the words in each language"
   ]
  },
  {
   "cell_type": "code",
   "execution_count": 15,
   "metadata": {},
   "outputs": [
    {
     "data": {
      "text/html": [
       "<div>\n",
       "<style scoped>\n",
       "    .dataframe tbody tr th:only-of-type {\n",
       "        vertical-align: middle;\n",
       "    }\n",
       "\n",
       "    .dataframe tbody tr th {\n",
       "        vertical-align: top;\n",
       "    }\n",
       "\n",
       "    .dataframe thead th {\n",
       "        text-align: right;\n",
       "    }\n",
       "</style>\n",
       "<table border=\"1\" class=\"dataframe\">\n",
       "  <thead>\n",
       "    <tr style=\"text-align: right;\">\n",
       "      <th></th>\n",
       "      <th>English</th>\n",
       "      <th>Hindi</th>\n",
       "      <th>Gujarati</th>\n",
       "      <th>Bengali</th>\n",
       "      <th>Tamil</th>\n",
       "      <th>Telgu</th>\n",
       "      <th>Malayalam</th>\n",
       "      <th>Kannada</th>\n",
       "    </tr>\n",
       "  </thead>\n",
       "  <tbody>\n",
       "    <tr>\n",
       "      <th>count</th>\n",
       "      <td>401243</td>\n",
       "      <td>80797</td>\n",
       "      <td>47482</td>\n",
       "      <td>68848</td>\n",
       "      <td>58361</td>\n",
       "      <td>44904</td>\n",
       "      <td>54057</td>\n",
       "      <td>46794</td>\n",
       "    </tr>\n",
       "    <tr>\n",
       "      <th>mean</th>\n",
       "      <td>16</td>\n",
       "      <td>18</td>\n",
       "      <td>15</td>\n",
       "      <td>14</td>\n",
       "      <td>12</td>\n",
       "      <td>11</td>\n",
       "      <td>10</td>\n",
       "      <td>11</td>\n",
       "    </tr>\n",
       "    <tr>\n",
       "      <th>std</th>\n",
       "      <td>8</td>\n",
       "      <td>11</td>\n",
       "      <td>7</td>\n",
       "      <td>7</td>\n",
       "      <td>6</td>\n",
       "      <td>6</td>\n",
       "      <td>5</td>\n",
       "      <td>6</td>\n",
       "    </tr>\n",
       "    <tr>\n",
       "      <th>min</th>\n",
       "      <td>1</td>\n",
       "      <td>1</td>\n",
       "      <td>1</td>\n",
       "      <td>1</td>\n",
       "      <td>1</td>\n",
       "      <td>1</td>\n",
       "      <td>1</td>\n",
       "      <td>1</td>\n",
       "    </tr>\n",
       "    <tr>\n",
       "      <th>25%</th>\n",
       "      <td>10</td>\n",
       "      <td>11</td>\n",
       "      <td>11</td>\n",
       "      <td>9</td>\n",
       "      <td>8</td>\n",
       "      <td>7</td>\n",
       "      <td>7</td>\n",
       "      <td>7</td>\n",
       "    </tr>\n",
       "    <tr>\n",
       "      <th>50%</th>\n",
       "      <td>15</td>\n",
       "      <td>17</td>\n",
       "      <td>15</td>\n",
       "      <td>13</td>\n",
       "      <td>11</td>\n",
       "      <td>11</td>\n",
       "      <td>10</td>\n",
       "      <td>11</td>\n",
       "    </tr>\n",
       "    <tr>\n",
       "      <th>75%</th>\n",
       "      <td>21</td>\n",
       "      <td>24</td>\n",
       "      <td>20</td>\n",
       "      <td>18</td>\n",
       "      <td>16</td>\n",
       "      <td>15</td>\n",
       "      <td>13</td>\n",
       "      <td>15</td>\n",
       "    </tr>\n",
       "    <tr>\n",
       "      <th>max</th>\n",
       "      <td>206</td>\n",
       "      <td>778</td>\n",
       "      <td>80</td>\n",
       "      <td>107</td>\n",
       "      <td>86</td>\n",
       "      <td>101</td>\n",
       "      <td>82</td>\n",
       "      <td>86</td>\n",
       "    </tr>\n",
       "  </tbody>\n",
       "</table>\n",
       "</div>"
      ],
      "text/plain": [
       "       English  Hindi  Gujarati  Bengali  Tamil  Telgu  Malayalam  Kannada\n",
       "count   401243  80797     47482    68848  58361  44904      54057    46794\n",
       "mean        16     18        15       14     12     11         10       11\n",
       "std          8     11         7        7      6      6          5        6\n",
       "min          1      1         1        1      1      1          1        1\n",
       "25%         10     11        11        9      8      7          7        7\n",
       "50%         15     17        15       13     11     11         10       11\n",
       "75%         21     24        20       18     16     15         13       15\n",
       "max        206    778        80      107     86    101         82       86"
      ]
     },
     "execution_count": 15,
     "metadata": {},
     "output_type": "execute_result"
    }
   ],
   "source": [
    "lang_stats = pd.DataFrame(columns=['English', 'Hindi', 'Gujarati', 'Bengali', 'Tamil', 'Telgu', 'Malayalam', 'Kannada', 'id'])\n",
    "\n",
    "lang_stats['English'] = data['target'].apply(lambda x: len(x.split(' ')))\n",
    "lang_stats['Hindi'] = data.loc[data['language'] == 'English-Hindi', 'source'].apply(lambda x: len(x.split(' ')))\n",
    "lang_stats['Gujarati'] = data.loc[data['language'] == 'English-Gujarati', 'source'].apply(lambda x: len(x.split(' ')))\n",
    "lang_stats['Bengali'] = data.loc[data['language'] == 'English-Bengali', 'source'].apply(lambda x: len(x.split(' ')))\n",
    "lang_stats['Tamil'] = data.loc[data['language'] == 'English-Tamil', 'source'].apply(lambda x: len(x.split(' ')))\n",
    "lang_stats['Telgu'] = data.loc[data['language'] == 'English-Telgu', 'source'].apply(lambda x: len(x.split(' ')))\n",
    "lang_stats['Kannada'] = data.loc[data['language'] == 'English-Kannada', 'source'].apply(lambda x: len(x.split(' ')))\n",
    "lang_stats['Malayalam'] = data.loc[data['language'] == 'English-Malayalam', 'source'].apply(lambda x: len(x.split(' ')))\n",
    "lang_stats['id'] = data['id']\n",
    "\n",
    "color_pallete = {}\n",
    "pal = sns.color_palette('muted').as_hex()\n",
    "for column, color in zip(['English', 'Hindi', 'Gujarati', 'Bengali', 'Tamil', 'Telgu', 'Malayalam', 'Kannada'], pal):\n",
    "    color_pallete[column] = color\n",
    "\n",
    "# print(lang_stats.describe().astype(int).to_latex())\n",
    "lang_stats.describe().astype(int)"
   ]
  },
  {
   "cell_type": "code",
   "execution_count": 16,
   "metadata": {},
   "outputs": [
    {
     "data": {
      "image/png": "[encoded data removed]",
      "text/plain": [
       "<Figure size 640x480 with 1 Axes>"
      ]
     },
     "metadata": {},
     "output_type": "display_data"
    }
   ],
   "source": [
    "plot_data = lang_stats.describe().loc['count'].to_frame().reset_index(names=['Language'])\n",
    "plot_data = plot_data[plot_data['Language'] != 'English']\n",
    "sns.barplot(data = plot_data.sort_values(by='count', ascending=False), y='Language', x='count', palette=color_pallete)\n",
    "plt.title('Distribution of words in languages')\n",
    "\n",
    "plt.savefig('images/lang-distribution.pdf', bbox_inches=\"tight\")\n",
    "plt.savefig('images/lang-distribution.svg', bbox_inches=\"tight\")"
   ]
  },
  {
   "cell_type": "markdown",
   "metadata": {},
   "source": [
    "Plotting the distribution of the lengths of the sentences in each language. Here length refers to the number of words present in each language."
   ]
  },
  {
   "cell_type": "code",
   "execution_count": 17,
   "metadata": {},
   "outputs": [
    {
     "data": {
      "image/png": "[encoded data removed]",
      "text/plain": [
       "<Figure size 1200x400 with 2 Axes>"
      ]
     },
     "metadata": {},
     "output_type": "display_data"
    }
   ],
   "source": [
    "fig, ax = plt.subplots(1, 2, figsize=(12, 4))\n",
    "plot_data = lang_stats[['English', 'Hindi', 'Gujarati', 'Bengali', 'Tamil', 'Telgu', 'Malayalam', 'Kannada']].melt().rename(columns={'variable': 'Language', 'value': 'Length'})\n",
    "sns.kdeplot(plot_data[plot_data['Length'] < 80], x='Length', hue='Language', palette = color_pallete, ax = ax[0])\n",
    "\n",
    "plot_data = lang_stats[['Hindi', 'Gujarati', 'Bengali', 'Tamil', 'Telgu', 'Malayalam', 'Kannada']].melt().rename(columns={'variable': 'Language', 'value': 'Length'})\n",
    "sns.kdeplot(plot_data[plot_data['Length'] < 80], x='Length', hue='Language', palette = color_pallete, ax = ax[1])\n",
    "\n",
    "\n",
    "fig.suptitle('Distribution of sentence lengths')\n",
    "\n",
    "plt.savefig('images/length-distribution.pdf', bbox_inches=\"tight\")\n",
    "plt.savefig('images/length-distribution.svg', bbox_inches=\"tight\")"
   ]
  },
  {
   "cell_type": "markdown",
   "metadata": {},
   "source": [
    "Plotting the Cumulative Distribution of the lengths of sequences in each language"
   ]
  },
  {
   "cell_type": "code",
   "execution_count": 18,
   "metadata": {},
   "outputs": [
    {
     "data": {
      "image/png": "[encoded data removed]",
      "text/plain": [
       "<Figure size 600x400 with 1 Axes>"
      ]
     },
     "metadata": {},
     "output_type": "display_data"
    }
   ],
   "source": [
    "fig, ax = plt.subplots(1, 1, figsize=(6, 4))\n",
    "plot_data = lang_stats[['English', 'Hindi', 'Gujarati', 'Bengali', 'Tamil', 'Telgu', 'Malayalam', 'Kannada']].melt().rename(columns={'variable': 'Language', 'value': 'Length'})\n",
    "sns.ecdfplot(plot_data[plot_data['Length'] < 80], x='Length', hue='Language', palette = color_pallete)\n",
    "\n",
    "fig.suptitle('CDF of sentence lengths')\n",
    "\n",
    "plt.savefig('images/length-cdf.pdf', bbox_inches=\"tight\")\n",
    "plt.savefig('images/length-cdf.svg', bbox_inches=\"tight\")"
   ]
  },
  {
   "cell_type": "markdown",
   "metadata": {},
   "source": [
    "This shows that most of the sentences in the data are below 40 words. Thus we can see below that any sequence having more than 40 words is dropped in the training of the model"
   ]
  },
  {
   "cell_type": "markdown",
   "metadata": {},
   "source": [
    "Plotting the distribution of unique words present in each language to understand vocabulary size"
   ]
  },
  {
   "cell_type": "code",
   "execution_count": 19,
   "metadata": {},
   "outputs": [
    {
     "data": {
      "image/png": "[encoded data removed]",
      "text/plain": [
       "<Figure size 640x480 with 1 Axes>"
      ]
     },
     "metadata": {},
     "output_type": "display_data"
    }
   ],
   "source": [
    "lang_sentences = pd.DataFrame(columns=['English', 'Hindi', 'Gujarati', 'Bengali', 'Tamil', 'Telgu', 'Malayalam', 'Kannada', 'id'])\n",
    "\n",
    "lang_sentences['English'] = data['target'].apply(lambda x: x.split(' '))\n",
    "lang_sentences['Hindi'] = data.loc[data['language'] == 'English-Hindi', 'source'].apply(lambda x: x.split(' '))\n",
    "lang_sentences['Gujarati'] = data.loc[data['language'] == 'English-Gujarati', 'source'].apply(lambda x: x.split(' '))\n",
    "lang_sentences['Bengali'] = data.loc[data['language'] == 'English-Bengali', 'source'].apply(lambda x: x.split(' '))\n",
    "lang_sentences['Tamil'] = data.loc[data['language'] == 'English-Tamil', 'source'].apply(lambda x: x.split(' '))\n",
    "lang_sentences['Telgu'] = data.loc[data['language'] == 'English-Telgu', 'source'].apply(lambda x: x.split(' '))\n",
    "lang_sentences['Kannada'] = data.loc[data['language'] == 'English-Kannada', 'source'].apply(lambda x: x.split(' '))\n",
    "lang_sentences['Malayalam'] = data.loc[data['language'] == 'English-Malayalam', 'source'].apply(lambda x: x.split(' '))\n",
    "lang_sentences['id'] = data['id']\n",
    "\n",
    "color_pallete = {}\n",
    "pal = sns.color_palette('muted').as_hex()\n",
    "for column, color in zip(['English', 'Hindi', 'Gujarati', 'Bengali', 'Tamil', 'Telgu', 'Malayalam', 'Kannada'], pal):\n",
    "    color_pallete[column] = color\n",
    "\n",
    "lang_sentences\n",
    "# print(lang_stats.describe().astype(int).to_latex())\n",
    "# lang_sentences.describe().astype(int)\n",
    "\n",
    "def get_unique_words(lang):\n",
    "    words = []\n",
    "    for sentence in lang_sentences[lang].values:\n",
    "        if type(sentence) is list:\n",
    "            words.extend(list(sentence))\n",
    "    return len(set(words))\n",
    "\n",
    "lang_words = pd.DataFrame(index=['English', 'Hindi', 'Gujarati', 'Bengali', 'Tamil', 'Telgu', 'Malayalam', 'Kannada'], columns=['words'])\n",
    "lang_words.loc['English', 'words'] = get_unique_words('English')\n",
    "lang_words.loc['Hindi', 'words'] = get_unique_words('Hindi')\n",
    "lang_words.loc['Gujarati', 'words'] = get_unique_words('Gujarati')\n",
    "lang_words.loc['Bengali', 'words'] = get_unique_words('Bengali')\n",
    "lang_words.loc['Tamil', 'words'] = get_unique_words('Tamil')\n",
    "lang_words.loc['Telgu', 'words'] = get_unique_words('Telgu')\n",
    "lang_words.loc['Malayalam', 'words'] = get_unique_words('Malayalam')\n",
    "lang_words.loc['Kannada', 'words'] = get_unique_words('Kannada')\n",
    "\n",
    "lang_words = lang_words.reset_index(names=['Language'])\n",
    "\n",
    "sns.barplot(data = lang_words.sort_values(by='words', ascending=False), y='Language', x='words', palette=color_pallete)\n",
    "plt.title('Unique word distribution')\n",
    "\n",
    "plt.savefig('images/word-distribution.pdf', bbox_inches=\"tight\")\n",
    "plt.savefig('images/word-distribution.svg', bbox_inches=\"tight\")\n"
   ]
  },
  {
   "cell_type": "markdown",
   "metadata": {},
   "source": [
    "Plotting the length of source sequence vs the target sequence to get a rough estimate about the `max_len` while decoding"
   ]
  },
  {
   "cell_type": "code",
   "execution_count": 20,
   "metadata": {},
   "outputs": [
    {
     "data": {
      "image/png": "[encoded data removed]",
      "text/plain": [
       "<Figure size 684.375x500 with 1 Axes>"
      ]
     },
     "metadata": {},
     "output_type": "display_data"
    }
   ],
   "source": [
    "plot_data = data[['source_len', 'target_len', 'language']]\n",
    "\n",
    "color_pallete = {}\n",
    "pal = sns.color_palette('muted').as_hex()\n",
    "for column, color in zip(['[]', 'English-Hindi', 'English-Gujarati', 'English-Bengali', 'English-Tamil', 'English-Telgu', 'English-Malayalam', 'English-Kannada'], pal):\n",
    "    color_pallete[column] = color\n",
    "\n",
    "sns.relplot(data=plot_data[plot_data['source_len'] < 50], x='source_len', y='target_len', hue='language', palette=color_pallete, kind='line', alpha=0.5)\n",
    "plt.title('Relationship between source and target lengths for all language pairs')\n",
    "\n",
    "plt.savefig('images/len-comparision.pdf', bbox_inches=\"tight\")\n",
    "plt.savefig('images/len-comparision.svg', bbox_inches=\"tight\")\n"
   ]
  },
  {
   "cell_type": "markdown",
   "metadata": {},
   "source": [
    "The data analysis results seem to be very consistent with the analysis results of Phase-1. So I will use only sentences below the length of 40 as they seem to capture about 90% of the data. I will keep the `max_len` of the target sentence to be equal to source sentence as that is the trend we can capture in the above graph, at least on word level and not on token/sub-token level."
   ]
  },
  {
   "cell_type": "markdown",
   "metadata": {},
   "source": [
    "## Data cleaning and pre-processing"
   ]
  },
  {
   "cell_type": "markdown",
   "metadata": {},
   "source": [
    "Only using source and target pairs where the source length is less than 40"
   ]
  },
  {
   "cell_type": "code",
   "execution_count": 21,
   "metadata": {},
   "outputs": [
    {
     "data": {
      "text/html": [
       "<div>\n",
       "<style scoped>\n",
       "    .dataframe tbody tr th:only-of-type {\n",
       "        vertical-align: middle;\n",
       "    }\n",
       "\n",
       "    .dataframe tbody tr th {\n",
       "        vertical-align: top;\n",
       "    }\n",
       "\n",
       "    .dataframe thead th {\n",
       "        text-align: right;\n",
       "    }\n",
       "</style>\n",
       "<table border=\"1\" class=\"dataframe\">\n",
       "  <thead>\n",
       "    <tr style=\"text-align: right;\">\n",
       "      <th></th>\n",
       "      <th>id</th>\n",
       "      <th>source</th>\n",
       "      <th>target</th>\n",
       "      <th>language</th>\n",
       "      <th>source_len</th>\n",
       "      <th>target_len</th>\n",
       "    </tr>\n",
       "  </thead>\n",
       "  <tbody>\n",
       "    <tr>\n",
       "      <th>0</th>\n",
       "      <td>0</td>\n",
       "      <td>তট্টেক্কাড়ুতে অনেক প্রজাতির পাখি ছাড়াও ২৮ প্...</td>\n",
       "      <td>The Bird Sanctuary of Tettekkad Idukki is worl...</td>\n",
       "      <td>English-Bengali</td>\n",
       "      <td>19</td>\n",
       "      <td>10</td>\n",
       "    </tr>\n",
       "    <tr>\n",
       "      <th>1</th>\n",
       "      <td>1</td>\n",
       "      <td>আমাদের দেশে প্রাচীনকালে বিদ্যা শেখানোর পরে বিদ...</td>\n",
       "      <td>The exam was taken of students after learning ...</td>\n",
       "      <td>English-Bengali</td>\n",
       "      <td>11</td>\n",
       "      <td>16</td>\n",
       "    </tr>\n",
       "    <tr>\n",
       "      <th>2</th>\n",
       "      <td>2</td>\n",
       "      <td>১৩৩৬ খ্রিষ্টাব্দে কাজটি সম্পন্ন হলেও, পৃথ্বীরা...</td>\n",
       "      <td>While the work was completed in 1336 CE, the p...</td>\n",
       "      <td>English-Bengali</td>\n",
       "      <td>14</td>\n",
       "      <td>18</td>\n",
       "    </tr>\n",
       "    <tr>\n",
       "      <th>3</th>\n",
       "      <td>3</td>\n",
       "      <td>ব্যবসায়ীরা সম্ভবত মঠগুলিতে দান করতেন, কারণ এই...</td>\n",
       "      <td>The merchants probably donated to the monaster...</td>\n",
       "      <td>English-Bengali</td>\n",
       "      <td>21</td>\n",
       "      <td>25</td>\n",
       "    </tr>\n",
       "    <tr>\n",
       "      <th>4</th>\n",
       "      <td>4</td>\n",
       "      <td>বাতই এক মাত্র স্টার্চ যেটা গ্যাস সৃষ্টি করে না ׀</td>\n",
       "      <td>Rice is the only starch which is not responsib...</td>\n",
       "      <td>English-Bengali</td>\n",
       "      <td>10</td>\n",
       "      <td>13</td>\n",
       "    </tr>\n",
       "    <tr>\n",
       "      <th>...</th>\n",
       "      <td>...</td>\n",
       "      <td>...</td>\n",
       "      <td>...</td>\n",
       "      <td>...</td>\n",
       "      <td>...</td>\n",
       "      <td>...</td>\n",
       "    </tr>\n",
       "    <tr>\n",
       "      <th>401238</th>\n",
       "      <td>1063020</td>\n",
       "      <td>జూన్ మూడో తేదీన ఏ ఆర్ రెహమాన్ కచేరి ఏ సమయంలో ప...</td>\n",
       "      <td>what time does the zach brown concert on june ...</td>\n",
       "      <td>English-Telgu</td>\n",
       "      <td>10</td>\n",
       "      <td>11</td>\n",
       "    </tr>\n",
       "    <tr>\n",
       "      <th>401239</th>\n",
       "      <td>1063021</td>\n",
       "      <td>మొక్క ప్రారంభం నుండి ఆరోగ్యంగా కనపడింది .</td>\n",
       "      <td>Plants were seen healthy since the beginning .</td>\n",
       "      <td>English-Telgu</td>\n",
       "      <td>6</td>\n",
       "      <td>8</td>\n",
       "    </tr>\n",
       "    <tr>\n",
       "      <th>401240</th>\n",
       "      <td>1063022</td>\n",
       "      <td>దీని ఉత్పత్తి కూడా సంవత్సరానికి సంబంధించి విత్...</td>\n",
       "      <td>Its yield is also annual which is grown again ...</td>\n",
       "      <td>English-Telgu</td>\n",
       "      <td>11</td>\n",
       "      <td>12</td>\n",
       "    </tr>\n",
       "    <tr>\n",
       "      <th>401241</th>\n",
       "      <td>1063023</td>\n",
       "      <td>ఖమ్మం నుండి నాసిక్ ముంబై వరకు ట్రైన్ సమయం</td>\n",
       "      <td>train time from brooklyn to queens</td>\n",
       "      <td>English-Telgu</td>\n",
       "      <td>7</td>\n",
       "      <td>6</td>\n",
       "    </tr>\n",
       "    <tr>\n",
       "      <th>401242</th>\n",
       "      <td>1063024</td>\n",
       "      <td>అన్నపానీయాల చెడు అలవాట్లలో మరియు నోటి శుభ్రత ల...</td>\n",
       "      <td>From bad eating habits and lack of cleaning of...</td>\n",
       "      <td>English-Telgu</td>\n",
       "      <td>12</td>\n",
       "      <td>16</td>\n",
       "    </tr>\n",
       "  </tbody>\n",
       "</table>\n",
       "<p>396865 rows × 6 columns</p>\n",
       "</div>"
      ],
      "text/plain": [
       "             id                                             source  \\\n",
       "0             0  তট্টেক্কাড়ুতে অনেক প্রজাতির পাখি ছাড়াও ২৮ প্...   \n",
       "1             1  আমাদের দেশে প্রাচীনকালে বিদ্যা শেখানোর পরে বিদ...   \n",
       "2             2  ১৩৩৬ খ্রিষ্টাব্দে কাজটি সম্পন্ন হলেও, পৃথ্বীরা...   \n",
       "3             3  ব্যবসায়ীরা সম্ভবত মঠগুলিতে দান করতেন, কারণ এই...   \n",
       "4             4   বাতই এক মাত্র স্টার্চ যেটা গ্যাস সৃষ্টি করে না ׀   \n",
       "...         ...                                                ...   \n",
       "401238  1063020  జూన్ మూడో తేదీన ఏ ఆర్ రెహమాన్ కచేరి ఏ సమయంలో ప...   \n",
       "401239  1063021          మొక్క ప్రారంభం నుండి ఆరోగ్యంగా కనపడింది .   \n",
       "401240  1063022  దీని ఉత్పత్తి కూడా సంవత్సరానికి సంబంధించి విత్...   \n",
       "401241  1063023          ఖమ్మం నుండి నాసిక్ ముంబై వరకు ట్రైన్ సమయం   \n",
       "401242  1063024  అన్నపానీయాల చెడు అలవాట్లలో మరియు నోటి శుభ్రత ల...   \n",
       "\n",
       "                                                   target         language  \\\n",
       "0       The Bird Sanctuary of Tettekkad Idukki is worl...  English-Bengali   \n",
       "1       The exam was taken of students after learning ...  English-Bengali   \n",
       "2       While the work was completed in 1336 CE, the p...  English-Bengali   \n",
       "3       The merchants probably donated to the monaster...  English-Bengali   \n",
       "4       Rice is the only starch which is not responsib...  English-Bengali   \n",
       "...                                                   ...              ...   \n",
       "401238  what time does the zach brown concert on june ...    English-Telgu   \n",
       "401239     Plants were seen healthy since the beginning .    English-Telgu   \n",
       "401240  Its yield is also annual which is grown again ...    English-Telgu   \n",
       "401241                 train time from brooklyn to queens    English-Telgu   \n",
       "401242  From bad eating habits and lack of cleaning of...    English-Telgu   \n",
       "\n",
       "        source_len  target_len  \n",
       "0               19          10  \n",
       "1               11          16  \n",
       "2               14          18  \n",
       "3               21          25  \n",
       "4               10          13  \n",
       "...            ...         ...  \n",
       "401238          10          11  \n",
       "401239           6           8  \n",
       "401240          11          12  \n",
       "401241           7           6  \n",
       "401242          12          16  \n",
       "\n",
       "[396865 rows x 6 columns]"
      ]
     },
     "execution_count": 21,
     "metadata": {},
     "output_type": "execute_result"
    }
   ],
   "source": [
    "train_data = data.loc[data['source_len']<=40]\n",
    "\n",
    "train_data"
   ]
  },
  {
   "cell_type": "markdown",
   "metadata": {},
   "source": [
    "### Preprocessing\n",
    "1. Adding space before all punctuation marks in all languages to keep it persistent and help in assigning a single entry for punctuations in the vocab.\n",
    "2. Adding space around commas to help in tokenization process\n",
    "3. Adding space around brackets to aid in tokenization process\n",
    "4. Adding space around any other special character to aid in tokenization\n",
    "5. Stripping white-spaces from each sequence"
   ]
  },
  {
   "cell_type": "code",
   "execution_count": 22,
   "metadata": {},
   "outputs": [
    {
     "name": "stderr",
     "output_type": "stream",
     "text": [
      "Preprocessing Train: 100%|████████████████████████████████| 396865/396865 [01:39<00:00, 3990.13it/s]\n",
      "Preprocessing Validation: 100%|█████████████████████████████| 57319/57319 [00:08<00:00, 6497.63it/s]\n",
      "Preprocessing Test: 100%|█████████████████████████████████| 114643/114643 [00:21<00:00, 5413.91it/s]\n"
     ]
    }
   ],
   "source": [
    "import re\n",
    "# from tqdm.notebook import tqdm_notebook\n",
    "# tqdm_notebook().pandas()\n",
    "tqdm.pandas(ncols=100)\n",
    "def preprocess_1(sentence):\n",
    "    \n",
    "    # Full stops\n",
    "    sentence = re.sub(r'(.)\\ *\\.', '\\\\1 .', sentence)\n",
    "    sentence = re.sub(r'(.)\\ *\\|', '\\\\1 |', sentence)\n",
    "    sentence = re.sub(r'(.)\\ *\\।', '\\\\1 |', sentence)\n",
    "    \n",
    "    # Commas\n",
    "    sentence = re.sub(r'(.)\\ *\\,\\ *(.)', '\\\\1 , \\\\2', sentence)\n",
    "    \n",
    "    # Brackets\n",
    "    sentence = re.sub(r'\\(\\ *(.+)\\ *\\)', '( \\\\1 )', sentence)\n",
    "    sentence = re.sub(r'\\[\\ *(.+)\\ *\\]', '( \\\\1 )', sentence)\n",
    "    sentence = re.sub(r'\\{\\ *(.+)\\ *\\}', '( \\\\1 )', sentence)\n",
    "    sentence = re.sub(r'\\<\\ *(.+)\\ *\\>', '( \\\\1 )', sentence)\n",
    "\n",
    "    # Any special character\n",
    "    sentence = re.sub(r'(.)\\ *(\\-)\\ *(.)', '\\\\1 \\\\2 \\\\3', sentence)\n",
    "    sentence = re.sub(r'(.)\\ *(\\_)\\ *(.)', '\\\\1 \\\\3', sentence)\n",
    "    sentence = re.sub(r'(.)\\ *(\\+)\\ *(.)', '\\\\1 \\\\2 \\\\3', sentence)\n",
    "    sentence = re.sub(r'(.)\\ *(\\=)\\ *(.)', '\\\\1 \\\\2 \\\\3', sentence)\n",
    "    sentence = re.sub(r'(.)\\ *(\\*)\\ *(.)', '\\\\1 \\\\2 \\\\3', sentence)\n",
    "    sentence = re.sub(r'(.)\\ *(\\/)\\ *(.)', '\\\\1 \\\\2 \\\\3', sentence)\n",
    "    sentence = re.sub(r'(.)\\ *(\\\\)\\ *(.)', '\\\\1 \\\\2 \\\\3', sentence)\n",
    "    sentence = re.sub(r'(.)\\ *(\\?)\\ *(.)', '\\\\1 \\\\2 \\\\3', sentence)\n",
    "    sentence = re.sub(r'(.)\\ *(\\!)\\ *(.)', '\\\\1 \\\\2 \\\\3', sentence)\n",
    "    sentence = re.sub(r'(.)\\ *(\\@)\\ *(.)', '\\\\1 \\\\2 \\\\3', sentence)\n",
    "    sentence = re.sub(r'(.)\\ *(\\#)\\ *(.)', '\\\\1 \\\\2 \\\\3', sentence)\n",
    "    sentence = re.sub(r'(.)\\ *(\\$)\\ *(.)', '\\\\1 \\\\2 \\\\3', sentence)\n",
    "    sentence = re.sub(r'(.)\\ *(\\%)\\ *(.)', '\\\\1 \\\\2 \\\\3', sentence)\n",
    "    sentence = re.sub(r'(.)\\ *(\\^)\\ *(.)', '\\\\1 \\\\2 \\\\3', sentence)\n",
    "    sentence = re.sub(r'(.)\\ *(\\&)\\ *(.)', '\\\\1 \\\\2 \\\\3', sentence)\n",
    "    sentence = re.sub(r'(.)\\ *(\\:)\\ *(.)', '\\\\1 \\\\2 \\\\3', sentence)\n",
    "    sentence = re.sub(r'(.)\\ *(\\;)\\ *(.)', '\\\\1 \\\\2 \\\\3', sentence)\n",
    "    sentence = re.sub(r'(.)\\ *(\\')\\ *(.)', '\\\\1 \\\\2 \\\\3', sentence)\n",
    "    sentence = re.sub(r'(.)\\ *(\\\")\\ *(.)', '\\\\1 \\\\2 \\\\3', sentence)\n",
    "    \n",
    "    # repeated spaces\n",
    "    sentence = re.sub(r'(.)\\ +(.)', '\\\\1 \\\\2', sentence)\n",
    "    sentence = sentence.strip()\n",
    "    return sentence\n",
    "\n",
    "def preprocess_row_1(row):\n",
    "    if 'target' in row.keys():\n",
    "        row['target'] = preprocess_1(row['target'])\n",
    "    row['source'] = preprocess_1(row['source'])\n",
    "    row['source_len'] = len(row['source'].split(' '))\n",
    "    if 'target' in row.keys():\n",
    "        row['target_len'] = len(row['target'].split(' '))\n",
    "    return row\n",
    "\n",
    "tqdm.pandas(desc='Preprocessing Train', ncols=100)\n",
    "preprocessed_train = train_data.progress_apply(preprocess_row_1, axis=1)\n",
    "tqdm.pandas(desc='Preprocessing Validation', ncols=100)\n",
    "preprocessed_val = val_data.progress_apply(preprocess_row_1, axis=1)\n",
    "tqdm.pandas(desc='Preprocessing Test', ncols=100)\n",
    "preprocessed_test = test_data.progress_apply(preprocess_row_1, axis=1)\n",
    "# preprocessed_train"
   ]
  },
  {
   "cell_type": "markdown",
   "metadata": {},
   "source": [
    "#### Preprocess 2\n",
    "Changing all target sentences (in English) to lowercase. Used earlier but avoided later as the true sentences in English are not compared to lowercased sentences."
   ]
  },
  {
   "cell_type": "code",
   "execution_count": 23,
   "metadata": {},
   "outputs": [],
   "source": [
    "def preprocess_row_2(row):\n",
    "    row['target'] = row['target'].lower()\n",
    "    return row\n",
    "\n",
    "# preprocessed_train = preprocessed_train.progress_apply(preprocess_row_2, axis=1)\n",
    "# preprocessed_val = val_data.progress_apply(preprocess_row_2, axis=1)\n",
    "# preprocessed_train"
   ]
  },
  {
   "cell_type": "markdown",
   "metadata": {},
   "source": [
    "## Tokenization\n",
    "Trying out all the tokenization strategies that I had tried during phase 1\n",
    "\n",
    "- Word tokenization using `<whitespace>`\n",
    "- spacy tokenization\n",
    "- BPE\n",
    "- Sentence-Piece (Best working model)"
   ]
  },
  {
   "cell_type": "markdown",
   "metadata": {},
   "source": [
    "### Space Tokenizer"
   ]
  },
  {
   "cell_type": "code",
   "execution_count": 24,
   "metadata": {},
   "outputs": [],
   "source": [
    "preprocessed_train['source_language'] = preprocessed_train['language'].apply(lambda x: x.split('-')[1])\n",
    "preprocessed_train['target_language'] = preprocessed_train['language'].apply(lambda x: x.split('-')[0])\n",
    "\n",
    "preprocessed_val['source_language'] = preprocessed_val['language'].apply(lambda x: x.split('-')[1])\n",
    "preprocessed_val['target_language'] = preprocessed_val['language'].apply(lambda x: x.split('-')[0])\n",
    "\n",
    "preprocessed_test['source_language'] = preprocessed_test['language'].apply(lambda x: x.split('-')[1])\n",
    "preprocessed_test['target_language'] = preprocessed_test['language'].apply(lambda x: x.split('-')[0])"
   ]
  },
  {
   "cell_type": "code",
   "execution_count": 25,
   "metadata": {},
   "outputs": [
    {
     "name": "stderr",
     "output_type": "stream",
     "text": [
      "Tokenizing Train targets: 100%|██████████████████████████| 396865/396865 [00:04<00:00, 88250.54it/s]\n",
      "Tokenizing Train sources: 100%|██████████████████████████| 396865/396865 [00:05<00:00, 76870.02it/s]\n",
      "Tokenizing Validation sources: 100%|███████████████████████| 57319/57319 [00:00<00:00, 99398.97it/s]\n",
      "Tokenizing Test sources: 100%|██████████████████████████| 114643/114643 [00:01<00:00, 108752.26it/s]"
     ]
    },
    {
     "name": "stdout",
     "output_type": "stream",
     "text": [
      "SOURCE_VOCAB: 448000, TARGET_VOCAB: 80000\n"
     ]
    },
    {
     "name": "stderr",
     "output_type": "stream",
     "text": [
      "\n"
     ]
    },
    {
     "data": {
      "text/plain": [
       "[154, 10, 12, 1, 1]"
      ]
     },
     "metadata": {},
     "output_type": "display_data"
    },
    {
     "data": {
      "text/plain": [
       "'today is a [UNK] [UNK]'"
      ]
     },
     "metadata": {},
     "output_type": "display_data"
    }
   ],
   "source": [
    "###############################################################################\n",
    "# Word-level tokenization using <space>\n",
    "###############################################################################\n",
    "\n",
    "from collections import Counter\n",
    "# from tqdm import tqdm\n",
    "# Whitespace tokenization and vocab for English and all Indian languages together\n",
    "class SpaceTokenizer:\n",
    "    def __init__(self) -> None:\n",
    "        self.tokenizer = {\n",
    "            'English': Counter(),\n",
    "            'Indian': Counter()\n",
    "        }\n",
    "    \n",
    "    def make_vocab(self, source_max_vocab = 128_000, target_max_vocab = 32_000, specials = ['[PAD]', '[UNK]', '[SOS]', '[EOS]']):\n",
    "        self.vocab_id2w = {\n",
    "            'English': dict(enumerate(specials)),\n",
    "            'Indian': dict(enumerate(specials))\n",
    "        }\n",
    "        self.vocab_w2id = {\n",
    "            'English': dict(),\n",
    "            'Indian': dict()\n",
    "        }\n",
    "        \n",
    "        id = len(specials)\n",
    "        for w, _ in self.tokenizer['English'].most_common(target_max_vocab - len(specials)):\n",
    "            self.vocab_id2w['English'][id] = w\n",
    "            id+=1\n",
    "        self.vocab_w2id['English'] = {v:k for k, v in self.vocab_id2w['English'].items()}\n",
    "        \n",
    "        id = len(specials)\n",
    "        for w, _ in self.tokenizer['Indian'].most_common(source_max_vocab - len(specials)):\n",
    "            self.vocab_id2w['Indian'][id] = w\n",
    "            id+=1\n",
    "        self.vocab_w2id['Indian'] = {v:k for k, v in self.vocab_id2w['Indian'].items()}\n",
    "    \n",
    "    def encode(self, sentence, language):\n",
    "        tokens = self.get_tokens(sentence)\n",
    "        return [self.vocab_w2id[language][word] if word in self.vocab_w2id[language] else 1 for word in tokens]\n",
    "    \n",
    "    def decode(self, tokens, language):\n",
    "        return self.join_tokens([self.vocab_id2w[language][word] for word in tokens])\n",
    "    \n",
    "    def get_tokens(self, sentence):\n",
    "        return sentence.split(' ')\n",
    "    \n",
    "    def join_tokens(self, tokens):\n",
    "        return ' '.join(tokens)\n",
    "    \n",
    "\n",
    "def train_tokenizer(row, tokenizer):\n",
    "    source_tokens = tokenizer.get_tokens(row['source'])\n",
    "    target_tokens = tokenizer.get_tokens(row['target'])\n",
    "    for token in source_tokens:\n",
    "        tokenizer.tokenizer['Indian'][token] += 1\n",
    "    for token in target_tokens:\n",
    "        tokenizer.tokenizer['English'][token] += 1\n",
    "\n",
    "\n",
    "        \n",
    "space_tokenizer = SpaceTokenizer()\n",
    "preprocessed_train.apply(lambda x: train_tokenizer(x, space_tokenizer), axis=1)\n",
    "space_tokenizer.make_vocab(source_max_vocab=7*64_000, target_max_vocab=80_000)\n",
    "\n",
    "tqdm.pandas(desc='Tokenizing Train targets', ncols=100)\n",
    "preprocessed_train['target_tokens'] = preprocessed_train.progress_apply(lambda x: space_tokenizer.encode(x['target'], 'English'), axis=1)\n",
    "tqdm.pandas(desc='Tokenizing Train sources', ncols=100)\n",
    "preprocessed_train['source_tokens'] = preprocessed_train.progress_apply(lambda x: space_tokenizer.encode(x['source'], 'Indian'), axis=1)\n",
    "tqdm.pandas(desc='Tokenizing Validation sources', ncols=100)\n",
    "preprocessed_val['source_tokens'] = preprocessed_val.progress_apply(lambda x: space_tokenizer.encode(x['source'], 'Indian'), axis=1)\n",
    "tqdm.pandas(desc='Tokenizing Test sources', ncols=100)\n",
    "preprocessed_test['source_tokens'] = preprocessed_test.progress_apply(lambda x: space_tokenizer.encode(x['source'], 'Indian'), axis=1)\n",
    "\n",
    "SOURCE_VOCAB = len(space_tokenizer.vocab_w2id['Indian'])\n",
    "TARGET_VOCAB = len(space_tokenizer.vocab_w2id['English'])\n",
    "\n",
    "print(f'SOURCE_VOCAB: {SOURCE_VOCAB}, TARGET_VOCAB: {TARGET_VOCAB}')\n",
    "\n",
    "ids = space_tokenizer.encode('today is a divyaksh shukla', 'English')\n",
    "display(ids)\n",
    "display(space_tokenizer.decode(ids, 'English'))"
   ]
  },
  {
   "cell_type": "code",
   "execution_count": 26,
   "metadata": {},
   "outputs": [],
   "source": [
    "# Saving data\n",
    "preprocessed_train_filepath = os.path.join('answers',experiment_id, 'preprocessed_space_train.pkl')\n",
    "preprocessed_train.to_pickle(preprocessed_train_filepath)\n",
    "\n",
    "# Saving tokenizer\n",
    "space_tokenizer_filepath = os.path.join('answers',experiment_id, 'space_tokenizer.pkl')\n",
    "\n",
    "# Saving validation data\n",
    "preprocessed_val_filepath = os.path.join('answers',experiment_id, 'preprocessed_space_val.pkl')\n",
    "preprocessed_val.to_pickle(preprocessed_val_filepath)\n",
    "\n",
    "# Saving test data\n",
    "preprocessed_test_filepath = os.path.join('answers',experiment_id, 'preprocessed_space_test.pkl')\n",
    "preprocessed_test.to_pickle(preprocessed_test_filepath)"
   ]
  },
  {
   "cell_type": "markdown",
   "metadata": {},
   "source": [
    "### Byte-Pair Encoding"
   ]
  },
  {
   "cell_type": "code",
   "execution_count": 27,
   "metadata": {},
   "outputs": [],
   "source": [
    "preprocessed_train['source_language'] = preprocessed_train['language'].apply(lambda x: x.split('-')[1])\n",
    "preprocessed_train['target_language'] = preprocessed_train['language'].apply(lambda x: x.split('-')[0])\n",
    "\n",
    "preprocessed_val['source_language'] = preprocessed_val['language'].apply(lambda x: x.split('-')[1])\n",
    "preprocessed_val['target_language'] = preprocessed_val['language'].apply(lambda x: x.split('-')[0])\n",
    "\n",
    "preprocessed_test['source_language'] = preprocessed_test['language'].apply(lambda x: x.split('-')[1])\n",
    "preprocessed_test['target_language'] = preprocessed_test['language'].apply(lambda x: x.split('-')[0])"
   ]
  },
  {
   "cell_type": "markdown",
   "metadata": {},
   "source": [
    "#### BPE separately for each language"
   ]
  },
  {
   "cell_type": "code",
   "execution_count": 36,
   "metadata": {},
   "outputs": [
    {
     "name": "stderr",
     "output_type": "stream",
     "text": [
      "Tokenizing Train targets: 100%|██████████████████████████| 396865/396865 [00:11<00:00, 34953.68it/s]\n",
      "Tokenizing Train sources: 100%|██████████████████████████| 396865/396865 [00:16<00:00, 24597.18it/s]\n",
      "Tokenizing Validation sources: 100%|███████████████████████| 57319/57319 [00:02<00:00, 20582.64it/s]\n",
      "Tokenizing Test sources: 100%|███████████████████████████| 114643/114643 [00:04<00:00, 25546.08it/s]\n"
     ]
    },
    {
     "data": {
      "text/plain": [
       "[154, 10, 12, 1, 1]"
      ]
     },
     "metadata": {},
     "output_type": "display_data"
    },
    {
     "data": {
      "text/plain": [
       "'today is a [UNK] [UNK]'"
      ]
     },
     "metadata": {},
     "output_type": "display_data"
    }
   ],
   "source": [
    "###############################################################################\n",
    "# BPE Tokenization using huggingface tokenizer and training from \n",
    "# scratch\n",
    "###############################################################################\n",
    "\n",
    "class MTBPETokenizer:\n",
    "    def __init__(self) -> None:\n",
    "        Tokenizer(BPE(unk_token = \"[UNK]\"))\n",
    "        self.tokenizer = {\n",
    "            'English': Tokenizer(BPE(unk_token = \"[UNK]\")),\n",
    "            'Hindi': Tokenizer(BPE(unk_token = \"[UNK]\")),\n",
    "            'Gujarati': Tokenizer(BPE(unk_token = \"[UNK]\")),\n",
    "            'Bengali': Tokenizer(BPE(unk_token = \"[UNK]\")),\n",
    "            'Tamil': Tokenizer(BPE(unk_token = \"[UNK]\")),\n",
    "            'Telgu': Tokenizer(BPE(unk_token = \"[UNK]\")),\n",
    "            'Malayalam': Tokenizer(BPE(unk_token = \"[UNK]\")),\n",
    "            'Kannada': Tokenizer(BPE(unk_token = \"[UNK]\"))\n",
    "        }\n",
    "        for k in self.tokenizer.keys():\n",
    "            self.tokenizer[k].pre_tokenizer = Whitespace()\n",
    "        \n",
    "\n",
    "    def train_tokenizer(self, data, \n",
    "                        source_max_vocab = 32_000, \n",
    "                        target_max_vocab = 32_000, \n",
    "                        specials = ['[PAD]', '[UNK]', '[SOS]', '[EOS]']):\n",
    "        \n",
    "        self.trainer = BpeTrainer(special_tokens=specials, \n",
    "                                  vocab_size=source_max_vocab, \n",
    "                                  show_progress=True, \n",
    "                                  limit_alphabet=500, \n",
    "                                  min_frequency=5)\n",
    "        \n",
    "        for lang in self.tokenizer.keys():\n",
    "            lang_data = data[data['source_language'] == lang]\n",
    "            lang_text = lang_data.loc[:, 'source'].values\n",
    "            self.tokenizer[lang].train_from_iterator(lang_text,\n",
    "                                                     self.trainer)\n",
    "        \n",
    "        english_text = data.loc[:, 'target'].values\n",
    "        self.tokenizer['English'].train_from_iterator(english_text, \n",
    "                                                      self.trainer)\n",
    "            \n",
    "    def encode(self, sentence, language):\n",
    "        tokens = self.tokenizer[language].encode(sentence).ids\n",
    "        return tokens\n",
    "\n",
    "    def decode(self, tokens, language):\n",
    "        return self.tokenizer[language].decode(tokens)\n",
    "\n",
    "    def get_tokens(self, sentence, language):\n",
    "        return self.tokenizer[language].encode(sentence).tokens\n",
    "\n",
    "    def join_tokens(self, tokens):\n",
    "        pass\n",
    "\n",
    "    \n",
    "        \n",
    "bpe_tokenizer = MTBPETokenizer()\n",
    "bpe_tokenizer.train_tokenizer(preprocessed_train, source_max_vocab=32_000, target_max_vocab=32_000)\n",
    "\n",
    "tqdm.pandas(desc='Tokenizing Train targets', ncols=100)\n",
    "preprocessed_train['target_tokens'] = preprocessed_train.progress_apply(lambda x: bpe_tokenizer.encode(x['target'], 'English'), axis=1)\n",
    "tqdm.pandas(desc='Tokenizing Train sources', ncols=100)\n",
    "preprocessed_train['source_tokens'] = preprocessed_train.progress_apply(lambda x: bpe_tokenizer.encode(x['source'], x['source_language']), axis=1)\n",
    "\n",
    "tqdm.pandas(desc='Tokenizing Validation sources', ncols=100)\n",
    "preprocessed_val['source_tokens'] = preprocessed_val.progress_apply(lambda x: bpe_tokenizer.encode(x['source'], x['source_language']), axis=1)\n",
    "tqdm.pandas(desc='Tokenizing Test sources', ncols=100)\n",
    "preprocessed_test['source_tokens'] = preprocessed_test.progress_apply(lambda x: bpe_tokenizer.encode(x['source'], x['source_language']), axis=1)\n",
    "\n",
    "ids = space_tokenizer.encode('today is a divyaksh shukla', 'English')\n",
    "display(ids)\n",
    "display(space_tokenizer.decode(ids, 'English'))\n"
   ]
  },
  {
   "cell_type": "code",
   "execution_count": 37,
   "metadata": {},
   "outputs": [],
   "source": [
    "# Saving data\n",
    "preprocessed_train_filepath = os.path.join('answers',experiment_id, 'preprocessed_separate_bpe_train.pkl')\n",
    "preprocessed_train.to_pickle(preprocessed_train_filepath)\n",
    "\n",
    "# Saving tokenizer\n",
    "bpe_tokenizer_filepath = os.path.join('answers',experiment_id, 'separate_bpe_tokenizer.pkl')\n",
    "\n",
    "# Saving validation data\n",
    "preprocessed_val_filepath = os.path.join('answers',experiment_id, 'preprocessed_separate_bpe_val.pkl')\n",
    "preprocessed_val.to_pickle(preprocessed_val_filepath)\n",
    "\n",
    "# Saving test data\n",
    "preprocessed_test_filepath = os.path.join('answers',experiment_id, 'preprocessed_separate_bpe_test.pkl')\n",
    "preprocessed_test.to_pickle(preprocessed_test_filepath)"
   ]
  },
  {
   "cell_type": "markdown",
   "metadata": {},
   "source": [
    "#### Common BPE for all Indian Languages"
   ]
  },
  {
   "cell_type": "code",
   "execution_count": 38,
   "metadata": {},
   "outputs": [
    {
     "name": "stderr",
     "output_type": "stream",
     "text": [
      "Tokenizing Train targets: 100%|██████████████████████████| 396865/396865 [00:11<00:00, 33682.34it/s]\n",
      "Tokenizing Train sources: 100%|██████████████████████████| 396865/396865 [00:17<00:00, 22724.19it/s]\n",
      "Tokenizing Validation sources: 100%|███████████████████████| 57319/57319 [00:02<00:00, 22065.73it/s]\n",
      "Tokenizing Test sources: 100%|███████████████████████████| 114643/114643 [00:05<00:00, 21744.70it/s]\n"
     ]
    }
   ],
   "source": [
    "###############################################################################\n",
    "# BPE Tokenization using huggingface tokenizer and training from \n",
    "# scratch\n",
    "###############################################################################\n",
    "\n",
    "class MTBPETokenizer:\n",
    "    def __init__(self) -> None:\n",
    "        Tokenizer(BPE(unk_token = \"[UNK]\"))\n",
    "        self.tokenizer = {\n",
    "            'English': Tokenizer(BPE(unk_token = \"[UNK]\")),\n",
    "            'Indian': Tokenizer(BPE(unk_token = \"[UNK]\"))\n",
    "        }\n",
    "        for k in self.tokenizer.keys():\n",
    "            self.tokenizer[k].pre_tokenizer = Whitespace()\n",
    "        \n",
    "\n",
    "    def train_tokenizer(self, data, \n",
    "                        source_max_vocab = 7*32_000, \n",
    "                        target_max_vocab = 32_000, \n",
    "                        specials = ['[PAD]', '[UNK]', '[SOS]', '[EOS]']):\n",
    "        \n",
    "        indian_trainer = BpeTrainer(special_tokens=specials, \n",
    "                                  vocab_size=source_max_vocab, \n",
    "                                  show_progress=True, \n",
    "                                  limit_alphabet=500, \n",
    "                                  min_frequency=5)\n",
    "        \n",
    "        # for lang in self.tokenizer.keys():\n",
    "        # lang_data = data[data['source_language'] == lang]\n",
    "        lang_text = data.loc[:, 'source'].values\n",
    "        self.tokenizer[\"Indian\"].train_from_iterator(lang_text,\n",
    "                                                    indian_trainer)\n",
    "        \n",
    "        en_trainer = BpeTrainer(special_tokens=specials, \n",
    "                                  vocab_size=target_max_vocab, \n",
    "                                  show_progress=True, \n",
    "                                  limit_alphabet=500, \n",
    "                                  min_frequency=5)\n",
    "        \n",
    "        english_text = data.loc[:, 'target'].values\n",
    "        self.tokenizer['English'].train_from_iterator(english_text, \n",
    "                                                      en_trainer)\n",
    "            \n",
    "    def encode(self, sentence, language):\n",
    "        tokens = self.tokenizer[language].encode(sentence).ids\n",
    "        return tokens\n",
    "\n",
    "    def decode(self, tokens, language):\n",
    "        return self.tokenizer[language].decode(tokens)\n",
    "\n",
    "    def get_tokens(self, sentence, language):\n",
    "        return self.tokenizer[language].encode(sentence).tokens\n",
    "\n",
    "    def join_tokens(self, tokens):\n",
    "        pass\n",
    "\n",
    "    \n",
    "        \n",
    "bpe_tokenizer = MTBPETokenizer()\n",
    "bpe_tokenizer.train_tokenizer(preprocessed_train, source_max_vocab=7*32_000, target_max_vocab=32_000)\n",
    "\n",
    "tqdm.pandas(desc='Tokenizing Train targets', ncols=100)\n",
    "preprocessed_train['target_tokens'] = preprocessed_train.progress_apply(lambda x: bpe_tokenizer.encode(x['target'], 'English'), axis=1)\n",
    "tqdm.pandas(desc='Tokenizing Train sources', ncols=100)\n",
    "preprocessed_train['source_tokens'] = preprocessed_train.progress_apply(lambda x: bpe_tokenizer.encode(x['source'], 'Indian'), axis=1)\n",
    "\n",
    "tqdm.pandas(desc='Tokenizing Validation sources', ncols=100)\n",
    "preprocessed_val['source_tokens'] = preprocessed_val.progress_apply(lambda x: bpe_tokenizer.encode(x['source'], 'Indian'), axis=1)\n",
    "tqdm.pandas(desc='Tokenizing Test sources', ncols=100)\n",
    "preprocessed_test['source_tokens'] = preprocessed_test.progress_apply(lambda x: bpe_tokenizer.encode(x['source'], 'Indian'), axis=1)\n",
    "# preprocessed_train"
   ]
  },
  {
   "cell_type": "code",
   "execution_count": 39,
   "metadata": {},
   "outputs": [],
   "source": [
    "# Saving data\n",
    "preprocessed_train_filepath = os.path.join('answers',experiment_id, 'preprocessed_bpe_train.pkl')\n",
    "preprocessed_train.to_pickle(preprocessed_train_filepath)\n",
    "\n",
    "# Saving tokenizer\n",
    "bpe_tokenizer_filepath = os.path.join('answers',experiment_id, 'bpe_tokenizer.pkl')\n",
    "\n",
    "# Saving validation data\n",
    "preprocessed_val_filepath = os.path.join('answers',experiment_id, 'preprocessed_bpe_val.pkl')\n",
    "preprocessed_val.to_pickle(preprocessed_val_filepath)\n",
    "\n",
    "# Saving test data\n",
    "preprocessed_test_filepath = os.path.join('answers',experiment_id, 'preprocessed_bpe_test.pkl')\n",
    "preprocessed_test.to_pickle(preprocessed_test_filepath)"
   ]
  },
  {
   "cell_type": "markdown",
   "metadata": {},
   "source": [
    "### SentencePiece Tokenizer"
   ]
  },
  {
   "cell_type": "code",
   "execution_count": 40,
   "metadata": {},
   "outputs": [],
   "source": [
    "preprocessed_train['source_language'] = preprocessed_train['language'].apply(lambda x: x.split('-')[1])\n",
    "preprocessed_train['target_language'] = preprocessed_train['language'].apply(lambda x: x.split('-')[0])\n",
    "\n",
    "preprocessed_val['source_language'] = preprocessed_val['language'].apply(lambda x: x.split('-')[1])\n",
    "preprocessed_val['target_language'] = preprocessed_val['language'].apply(lambda x: x.split('-')[0])\n",
    "\n",
    "preprocessed_test['source_language'] = preprocessed_test['language'].apply(lambda x: x.split('-')[1])\n",
    "preprocessed_test['target_language'] = preprocessed_test['language'].apply(lambda x: x.split('-')[0])\n",
    "# preprocessed_train"
   ]
  },
  {
   "cell_type": "markdown",
   "metadata": {},
   "source": [
    "##### Sentence Piece for each source language"
   ]
  },
  {
   "cell_type": "code",
   "execution_count": 41,
   "metadata": {},
   "outputs": [
    {
     "name": "stderr",
     "output_type": "stream",
     "text": [
      "Tokenizing Train targets: 100%|██████████████████████████| 396865/396865 [00:15<00:00, 25213.76it/s]\n",
      "Tokenizing Train sources: 100%|██████████████████████████| 396865/396865 [00:21<00:00, 18569.57it/s]\n",
      "Tokenizing Validation sources: 100%|███████████████████████| 57319/57319 [00:03<00:00, 18409.54it/s]\n",
      "Tokenizing Test sources: 100%|███████████████████████████| 114643/114643 [00:05<00:00, 19508.17it/s]\n"
     ]
    }
   ],
   "source": [
    "###############################################################################\n",
    "# SentencePiece Tokenization using huggingface tokenizer and training from \n",
    "# scratch\n",
    "###############################################################################\n",
    "\n",
    "class MTSentencePieceTokenizer:\n",
    "    def __init__(self) -> None:\n",
    "        self.tokenizer = {\n",
    "            'English': SentencePieceBPETokenizer(),\n",
    "            'Hindi': SentencePieceBPETokenizer(),\n",
    "            'Gujarati': SentencePieceBPETokenizer(),\n",
    "            'Bengali': SentencePieceBPETokenizer(),\n",
    "            'Tamil': SentencePieceBPETokenizer(),\n",
    "            'Telgu': SentencePieceBPETokenizer(),\n",
    "            'Malayalam': SentencePieceBPETokenizer(),\n",
    "            'Kannada': SentencePieceBPETokenizer()\n",
    "        }\n",
    "\n",
    "    def train_tokenizer(self, data, source_max_vocab = 32_000, target_max_vocab = 32_000, specials = ['[PAD]', '[UNK]', '[SOS]', '[EOS]']):\n",
    "        for lang in self.tokenizer.keys():\n",
    "            lang_data = data[data['source_language'] == lang]\n",
    "            lang_text = lang_data.loc[:, 'source'].values\n",
    "            self.tokenizer[lang].train_from_iterator(lang_text, \n",
    "                                                     vocab_size=source_max_vocab,\n",
    "                                                     min_frequency=5,\n",
    "                                                     show_progress=True,\n",
    "                                                     limit_alphabet=500)\n",
    "        english_text = data.loc[:, 'target'].values\n",
    "        self.tokenizer['English'].train_from_iterator(english_text,\n",
    "                                                      vocab_size=target_max_vocab,\n",
    "                                                      min_frequency=5,\n",
    "                                                      show_progress=True,\n",
    "                                                      limit_alphabet=500)\n",
    "            \n",
    "    def encode(self, sentence, language):\n",
    "        tokens = self.tokenizer[language].encode(sentence).ids\n",
    "        return tokens\n",
    "\n",
    "    def decode(self, tokens, language):\n",
    "        return self.tokenizer[language].decode(tokens)\n",
    "\n",
    "    def get_tokens(self, sentence, language):\n",
    "        return self.tokenizer[language].encode(sentence).tokens\n",
    "\n",
    "    def join_tokens(self, tokens):\n",
    "        pass\n",
    "\n",
    "    \n",
    "        \n",
    "sp_tokenizer = MTSentencePieceTokenizer()\n",
    "sp_tokenizer.train_tokenizer(preprocessed_train, source_max_vocab=32_000, target_max_vocab=32_000)\n",
    "\n",
    "tqdm.pandas(desc='Tokenizing Train targets', ncols=100)\n",
    "preprocessed_train['target_tokens'] = preprocessed_train.progress_apply(lambda x: sp_tokenizer.encode(x['target'], 'English'), axis=1)\n",
    "tqdm.pandas(desc='Tokenizing Train sources', ncols=100)\n",
    "preprocessed_train['source_tokens'] = preprocessed_train.progress_apply(lambda x: sp_tokenizer.encode(x['source'], x['source_language']), axis=1)\n",
    "\n",
    "tqdm.pandas(desc='Tokenizing Validation sources', ncols=100)\n",
    "preprocessed_val['source_tokens'] = preprocessed_val.progress_apply(lambda x: sp_tokenizer.encode(x['source'], x['source_language']), axis=1)\n",
    "tqdm.pandas(desc='Tokenizing Test sources', ncols=100)\n",
    "preprocessed_test['source_tokens'] = preprocessed_test.progress_apply(lambda x: sp_tokenizer.encode(x['source'], x['source_language']), axis=1)"
   ]
  },
  {
   "cell_type": "markdown",
   "metadata": {},
   "source": [
    "##### Sentence Piece for all indian languages together"
   ]
  },
  {
   "cell_type": "code",
   "execution_count": 42,
   "metadata": {},
   "outputs": [
    {
     "name": "stderr",
     "output_type": "stream",
     "text": [
      "Encoding Train target: 100%|█████████████████████████████| 396865/396865 [00:15<00:00, 25462.60it/s]\n",
      "Encoding Train source: 100%|█████████████████████████████| 396865/396865 [00:22<00:00, 17690.62it/s]\n",
      "Encoding Validation source: 100%|██████████████████████████| 57319/57319 [00:03<00:00, 17427.07it/s]\n",
      "Encoding Test source: 100%|██████████████████████████████| 114643/114643 [00:07<00:00, 15502.02it/s]\n"
     ]
    }
   ],
   "source": [
    "###############################################################################\n",
    "# SentencePiece Tokenization using huggingface tokenizer and training from \n",
    "# scratch\n",
    "###############################################################################\n",
    "\n",
    "class MTSentencePieceTokenizer:\n",
    "    def __init__(self) -> None:\n",
    "        self.tokenizer = {\n",
    "            'English': SentencePieceBPETokenizer(),\n",
    "            'Indian':  SentencePieceBPETokenizer()\n",
    "        }\n",
    "\n",
    "    def train_tokenizer(self, data, source_max_vocab = 32_000, target_max_vocab = 32_000, specials = ['[PAD]', '[UNK]', '[SOS]', '[EOS]']):\n",
    "        lang_text = data.loc[:, 'source'].values\n",
    "        self.tokenizer['Indian'].train_from_iterator(lang_text, \n",
    "                                                    vocab_size=source_max_vocab,\n",
    "                                                    min_frequency=5,\n",
    "                                                    show_progress=True,\n",
    "                                                    limit_alphabet=500)\n",
    "        english_text = data.loc[:, 'target'].values\n",
    "        self.tokenizer['English'].train_from_iterator(english_text,\n",
    "                                                      vocab_size=target_max_vocab,\n",
    "                                                      min_frequency=5,\n",
    "                                                      show_progress=True,\n",
    "                                                      limit_alphabet=500)\n",
    "            \n",
    "    def encode(self, sentence, language):\n",
    "        tokens = self.tokenizer[language].encode(sentence).ids\n",
    "        return tokens\n",
    "\n",
    "    def decode(self, tokens, language):\n",
    "        return self.tokenizer[language].decode(tokens)\n",
    "\n",
    "    def get_tokens(self, sentence, language):\n",
    "        return self.tokenizer[language].encode(sentence).tokens\n",
    "\n",
    "    def join_tokens(self, tokens):\n",
    "        pass\n",
    "\n",
    "    \n",
    "        \n",
    "sp_tokenizer = MTSentencePieceTokenizer()\n",
    "sp_tokenizer.train_tokenizer(preprocessed_train, source_max_vocab=60_000, target_max_vocab=10_000)\n",
    "\n",
    "tqdm.pandas(desc='Encoding Train target', ncols=100)\n",
    "preprocessed_train['target_tokens'] = preprocessed_train.progress_apply(lambda x: sp_tokenizer.encode(x['target'], 'English'), axis=1)\n",
    "tqdm.pandas(desc='Encoding Train source', ncols=100)\n",
    "preprocessed_train['source_tokens'] = preprocessed_train.progress_apply(lambda x: sp_tokenizer.encode(x['source'], 'Indian'), axis=1)\n",
    "\n",
    "tqdm.pandas(desc='Encoding Validation source', ncols=100)\n",
    "preprocessed_val['source_tokens'] = preprocessed_val.progress_apply(lambda x: sp_tokenizer.encode(x['source'], 'Indian'), axis=1)\n",
    "\n",
    "tqdm.pandas(desc='Encoding Test source', ncols=100)\n",
    "preprocessed_test['source_tokens'] = preprocessed_test.progress_apply(lambda x: sp_tokenizer.encode(x['source'], 'Indian'), axis=1)\n",
    "# preprocessed_train"
   ]
  },
  {
   "cell_type": "markdown",
   "metadata": {},
   "source": [
    "#### Saving Preprocessed data and tokenizer"
   ]
  },
  {
   "cell_type": "code",
   "execution_count": 43,
   "metadata": {},
   "outputs": [],
   "source": [
    "# Saving data\n",
    "preprocessed_train_filepath = os.path.join('answers', experiment_id, 'preprocessed_sp_train.pkl')\n",
    "preprocessed_train.to_pickle(preprocessed_train_filepath)\n",
    "\n",
    "# Saving tokenizer\n",
    "sp_tokenizer_filepath = os.path.join('answers', experiment_id, 'sp_tokenizer.pkl')\n",
    "import pickle\n",
    "with open(sp_tokenizer_filepath, 'wb') as f:\n",
    "    pickle.dump(sp_tokenizer, f)\n",
    "\n",
    "# Saving val data\n",
    "preprocessed_val_filepath = os.path.join('answers', experiment_id, 'preprocessed_sp_val.pkl')\n",
    "preprocessed_val.to_pickle(preprocessed_val_filepath)\n",
    "\n",
    "# Saving test data\n",
    "preprocessed_test_filepath = os.path.join('answers', experiment_id, 'preprocessed_sp_test.pkl')\n",
    "preprocessed_test.to_pickle(preprocessed_test_filepath)"
   ]
  },
  {
   "cell_type": "code",
   "execution_count": 44,
   "metadata": {},
   "outputs": [
    {
     "data": {
      "text/plain": [
       "'SOURCE VOCAB: 60000 | TARGET VOCAB: 10000'"
      ]
     },
     "execution_count": 44,
     "metadata": {},
     "output_type": "execute_result"
    }
   ],
   "source": [
    "SOURCE_VOCAB = len(sp_tokenizer.tokenizer['Indian'].get_vocab())\n",
    "TARGET_VOCAB = len(sp_tokenizer.tokenizer['English'].get_vocab())\n",
    "\n",
    "f'SOURCE VOCAB: {SOURCE_VOCAB} | TARGET VOCAB: {TARGET_VOCAB}'"
   ]
  },
  {
   "cell_type": "code",
   "execution_count": 45,
   "metadata": {},
   "outputs": [],
   "source": [
    "# Loading tokenizer\n",
    "sp_tokenizer_filepath = os.path.join(project_dir, experiment_id, 'sp_tokenizer.pkl')\n",
    "import pickle\n",
    "with open(sp_tokenizer_filepath, 'rb') as f:\n",
    "    sp_tokenizer = pickle.load(f)"
   ]
  },
  {
   "cell_type": "code",
   "execution_count": 46,
   "metadata": {},
   "outputs": [
    {
     "data": {
      "text/plain": [
       "'SOURCE VOCAB: 60000 | TARGET VOCAB: 10000'"
      ]
     },
     "execution_count": 46,
     "metadata": {},
     "output_type": "execute_result"
    }
   ],
   "source": [
    "SOURCE_VOCAB = len(sp_tokenizer.tokenizer['Indian'].get_vocab())\n",
    "TARGET_VOCAB = len(sp_tokenizer.tokenizer['English'].get_vocab())\n",
    "\n",
    "f'SOURCE VOCAB: {SOURCE_VOCAB} | TARGET VOCAB: {TARGET_VOCAB}'"
   ]
  },
  {
   "cell_type": "markdown",
   "metadata": {},
   "source": [
    "## Loading pre-processed data and tokenizer"
   ]
  },
  {
   "cell_type": "code",
   "execution_count": 47,
   "metadata": {},
   "outputs": [
    {
     "data": {
      "text/plain": [
       "(396865, 10)"
      ]
     },
     "metadata": {},
     "output_type": "display_data"
    },
    {
     "data": {
      "text/html": [
       "<div>\n",
       "<style scoped>\n",
       "    .dataframe tbody tr th:only-of-type {\n",
       "        vertical-align: middle;\n",
       "    }\n",
       "\n",
       "    .dataframe tbody tr th {\n",
       "        vertical-align: top;\n",
       "    }\n",
       "\n",
       "    .dataframe thead th {\n",
       "        text-align: right;\n",
       "    }\n",
       "</style>\n",
       "<table border=\"1\" class=\"dataframe\">\n",
       "  <thead>\n",
       "    <tr style=\"text-align: right;\">\n",
       "      <th></th>\n",
       "      <th>id</th>\n",
       "      <th>source</th>\n",
       "      <th>target</th>\n",
       "      <th>language</th>\n",
       "      <th>source_len</th>\n",
       "      <th>target_len</th>\n",
       "      <th>source_language</th>\n",
       "      <th>target_language</th>\n",
       "      <th>target_tokens</th>\n",
       "      <th>source_tokens</th>\n",
       "    </tr>\n",
       "  </thead>\n",
       "  <tbody>\n",
       "    <tr>\n",
       "      <th>0</th>\n",
       "      <td>0</td>\n",
       "      <td>তট্টেক্কাড়ুতে অনেক প্রজাতির পাখি ছাড়াও ২৮ প্...</td>\n",
       "      <td>The Bird Sanctuary of Tettekkad Idukki is worl...</td>\n",
       "      <td>English-Bengali</td>\n",
       "      <td>19</td>\n",
       "      <td>10</td>\n",
       "      <td>Bengali</td>\n",
       "      <td>English</td>\n",
       "      <td>[462, 5034, 69, 4402, 412, 442, 458, 662, 76, ...</td>\n",
       "      <td>[640, 10663, 1425, 1668, 1506, 14299, 2189, 11...</td>\n",
       "    </tr>\n",
       "    <tr>\n",
       "      <th>1</th>\n",
       "      <td>1</td>\n",
       "      <td>আমাদের দেশে প্রাচীনকালে বিদ্যা শেখানোর পরে বিদ...</td>\n",
       "      <td>The exam was taken of students after learning ...</td>\n",
       "      <td>English-Bengali</td>\n",
       "      <td>11</td>\n",
       "      <td>16</td>\n",
       "      <td>Bengali</td>\n",
       "      <td>English</td>\n",
       "      <td>[462, 1586, 540, 1612, 412, 4330, 754, 5753, 2...</td>\n",
       "      <td>[5192, 9881, 5465, 6454, 56658, 18417, 4020, 3...</td>\n",
       "    </tr>\n",
       "    <tr>\n",
       "      <th>2</th>\n",
       "      <td>2</td>\n",
       "      <td>১৩৩৬ খ্রিষ্টাব্দে কাজটি সম্পন্ন হলেও , পৃথ্বীর...</td>\n",
       "      <td>While the work was completed in 1336 CE , the ...</td>\n",
       "      <td>English-Bengali</td>\n",
       "      <td>16</td>\n",
       "      <td>20</td>\n",
       "      <td>Bengali</td>\n",
       "      <td>English</td>\n",
       "      <td>[2077, 403, 944, 540, 4424, 425, 2191, 5576, 4...</td>\n",
       "      <td>[12009, 184, 187, 18192, 2751, 664, 23739, 210...</td>\n",
       "    </tr>\n",
       "    <tr>\n",
       "      <th>3</th>\n",
       "      <td>3</td>\n",
       "      <td>ব্যবসায়ীরা সম্ভবত মঠগুলিতে দান করতেন , কারণ এ...</td>\n",
       "      <td>The merchants probably donated to the monaster...</td>\n",
       "      <td>English-Bengali</td>\n",
       "      <td>23</td>\n",
       "      <td>27</td>\n",
       "      <td>Bengali</td>\n",
       "      <td>English</td>\n",
       "      <td>[462, 7859, 1001, 4272, 1850, 582, 434, 403, 8...</td>\n",
       "      <td>[16657, 6261, 14789, 37661, 6027, 16605, 14272...</td>\n",
       "    </tr>\n",
       "    <tr>\n",
       "      <th>4</th>\n",
       "      <td>4</td>\n",
       "      <td>বাতই এক মাত্র স্টার্চ যেটা গ্যাস সৃষ্টি করে না ׀</td>\n",
       "      <td>Rice is the only starch which is not responsib...</td>\n",
       "      <td>English-Bengali</td>\n",
       "      <td>10</td>\n",
       "      <td>13</td>\n",
       "      <td>Bengali</td>\n",
       "      <td>English</td>\n",
       "      <td>[9335, 437, 403, 790, 471, 1233, 587, 437, 576...</td>\n",
       "      <td>[9320, 131, 831, 4756, 24690, 1096, 6309, 2283...</td>\n",
       "    </tr>\n",
       "  </tbody>\n",
       "</table>\n",
       "</div>"
      ],
      "text/plain": [
       "  id                                             source  \\\n",
       "0  0  তট্টেক্কাড়ুতে অনেক প্রজাতির পাখি ছাড়াও ২৮ প্...   \n",
       "1  1  আমাদের দেশে প্রাচীনকালে বিদ্যা শেখানোর পরে বিদ...   \n",
       "2  2  ১৩৩৬ খ্রিষ্টাব্দে কাজটি সম্পন্ন হলেও , পৃথ্বীর...   \n",
       "3  3  ব্যবসায়ীরা সম্ভবত মঠগুলিতে দান করতেন , কারণ এ...   \n",
       "4  4   বাতই এক মাত্র স্টার্চ যেটা গ্যাস সৃষ্টি করে না ׀   \n",
       "\n",
       "                                              target         language  \\\n",
       "0  The Bird Sanctuary of Tettekkad Idukki is worl...  English-Bengali   \n",
       "1  The exam was taken of students after learning ...  English-Bengali   \n",
       "2  While the work was completed in 1336 CE , the ...  English-Bengali   \n",
       "3  The merchants probably donated to the monaster...  English-Bengali   \n",
       "4  Rice is the only starch which is not responsib...  English-Bengali   \n",
       "\n",
       "   source_len  target_len source_language target_language  \\\n",
       "0          19          10         Bengali         English   \n",
       "1          11          16         Bengali         English   \n",
       "2          16          20         Bengali         English   \n",
       "3          23          27         Bengali         English   \n",
       "4          10          13         Bengali         English   \n",
       "\n",
       "                                       target_tokens  \\\n",
       "0  [462, 5034, 69, 4402, 412, 442, 458, 662, 76, ...   \n",
       "1  [462, 1586, 540, 1612, 412, 4330, 754, 5753, 2...   \n",
       "2  [2077, 403, 944, 540, 4424, 425, 2191, 5576, 4...   \n",
       "3  [462, 7859, 1001, 4272, 1850, 582, 434, 403, 8...   \n",
       "4  [9335, 437, 403, 790, 471, 1233, 587, 437, 576...   \n",
       "\n",
       "                                       source_tokens  \n",
       "0  [640, 10663, 1425, 1668, 1506, 14299, 2189, 11...  \n",
       "1  [5192, 9881, 5465, 6454, 56658, 18417, 4020, 3...  \n",
       "2  [12009, 184, 187, 18192, 2751, 664, 23739, 210...  \n",
       "3  [16657, 6261, 14789, 37661, 6027, 16605, 14272...  \n",
       "4  [9320, 131, 831, 4756, 24690, 1096, 6309, 2283...  "
      ]
     },
     "metadata": {},
     "output_type": "display_data"
    },
    {
     "data": {
      "text/html": [
       "<div>\n",
       "<style scoped>\n",
       "    .dataframe tbody tr th:only-of-type {\n",
       "        vertical-align: middle;\n",
       "    }\n",
       "\n",
       "    .dataframe tbody tr th {\n",
       "        vertical-align: top;\n",
       "    }\n",
       "\n",
       "    .dataframe thead th {\n",
       "        text-align: right;\n",
       "    }\n",
       "</style>\n",
       "<table border=\"1\" class=\"dataframe\">\n",
       "  <thead>\n",
       "    <tr style=\"text-align: right;\">\n",
       "      <th></th>\n",
       "      <th>id</th>\n",
       "      <th>source</th>\n",
       "      <th>language</th>\n",
       "      <th>source_len</th>\n",
       "      <th>source_language</th>\n",
       "      <th>target_language</th>\n",
       "      <th>source_tokens</th>\n",
       "    </tr>\n",
       "  </thead>\n",
       "  <tbody>\n",
       "    <tr>\n",
       "      <th>0</th>\n",
       "      <td>68848</td>\n",
       "      <td>শাসক স্যার তাঘতসিনজি গোহিলের অতীতের দর্শন বর্ত...</td>\n",
       "      <td>English-Bengali</td>\n",
       "      <td>11</td>\n",
       "      <td>Bengali</td>\n",
       "      <td>English</td>\n",
       "      <td>[20927, 50022, 3069, 139, 151, 27697, 5057, 74...</td>\n",
       "    </tr>\n",
       "    <tr>\n",
       "      <th>1</th>\n",
       "      <td>68849</td>\n",
       "      <td>আপনার ই পি এফ ও - তে নিবন্ধিত মোবাইল নম্বরের ল...</td>\n",
       "      <td>English-Bengali</td>\n",
       "      <td>16</td>\n",
       "      <td>Bengali</td>\n",
       "      <td>English</td>\n",
       "      <td>[2304, 1121, 4265, 13401, 894, 568, 5037, 4527...</td>\n",
       "    </tr>\n",
       "    <tr>\n",
       "      <th>2</th>\n",
       "      <td>68850</td>\n",
       "      <td>৩৫০ বর্গফুট আয়তনের এই কক্ষে একটি টেলিফোন , এক...</td>\n",
       "      <td>English-Bengali</td>\n",
       "      <td>15</td>\n",
       "      <td>Bengali</td>\n",
       "      <td>English</td>\n",
       "      <td>[55419, 9209, 157, 8340, 45821, 1376, 963, 517...</td>\n",
       "    </tr>\n",
       "    <tr>\n",
       "      <th>3</th>\n",
       "      <td>68851</td>\n",
       "      <td>দীর্ঘমেয়াদী চিকিত্সা পরিকল্পনা , চিকিত্সার ফল...</td>\n",
       "      <td>English-Bengali</td>\n",
       "      <td>22</td>\n",
       "      <td>Bengali</td>\n",
       "      <td>English</td>\n",
       "      <td>[8720, 58519, 12350, 10471, 503, 18902, 27514,...</td>\n",
       "    </tr>\n",
       "    <tr>\n",
       "      <th>4</th>\n",
       "      <td>68852</td>\n",
       "      <td>প্রসার শিক্ষা নির্দেশক , ডা . ডওয়াস বলেছেন যে ...</td>\n",
       "      <td>English-Bengali</td>\n",
       "      <td>36</td>\n",
       "      <td>Bengali</td>\n",
       "      <td>English</td>\n",
       "      <td>[20245, 14192, 51681, 503, 21728, 501, 1436, 9...</td>\n",
       "    </tr>\n",
       "  </tbody>\n",
       "</table>\n",
       "</div>"
      ],
      "text/plain": [
       "      id                                             source         language  \\\n",
       "0  68848  শাসক স্যার তাঘতসিনজি গোহিলের অতীতের দর্শন বর্ত...  English-Bengali   \n",
       "1  68849  আপনার ই পি এফ ও - তে নিবন্ধিত মোবাইল নম্বরের ল...  English-Bengali   \n",
       "2  68850  ৩৫০ বর্গফুট আয়তনের এই কক্ষে একটি টেলিফোন , এক...  English-Bengali   \n",
       "3  68851  দীর্ঘমেয়াদী চিকিত্সা পরিকল্পনা , চিকিত্সার ফল...  English-Bengali   \n",
       "4  68852  প্রসার শিক্ষা নির্দেশক , ডা . ডওয়াস বলেছেন যে ...  English-Bengali   \n",
       "\n",
       "   source_len source_language target_language  \\\n",
       "0          11         Bengali         English   \n",
       "1          16         Bengali         English   \n",
       "2          15         Bengali         English   \n",
       "3          22         Bengali         English   \n",
       "4          36         Bengali         English   \n",
       "\n",
       "                                       source_tokens  \n",
       "0  [20927, 50022, 3069, 139, 151, 27697, 5057, 74...  \n",
       "1  [2304, 1121, 4265, 13401, 894, 568, 5037, 4527...  \n",
       "2  [55419, 9209, 157, 8340, 45821, 1376, 963, 517...  \n",
       "3  [8720, 58519, 12350, 10471, 503, 18902, 27514,...  \n",
       "4  [20245, 14192, 51681, 503, 21728, 501, 1436, 9...  "
      ]
     },
     "metadata": {},
     "output_type": "display_data"
    }
   ],
   "source": [
    "# Loading data\n",
    "preprocessed_train_filepath = os.path.join(project_dir, experiment_id, 'preprocessed_sp_train.pkl')\n",
    "preprocessed_train = pd.read_pickle(preprocessed_train_filepath)\n",
    "\n",
    "# Loading validation data\n",
    "preprocessed_val_filepath = os.path.join(project_dir,experiment_id, 'preprocessed_sp_val.pkl')\n",
    "preprocessed_val = pd.read_pickle(preprocessed_val_filepath)\n",
    "\n",
    "# Loading testing data\n",
    "preprocessed_test_filepath = os.path.join(project_dir,experiment_id, 'preprocessed_sp_test.pkl')\n",
    "preprocessed_test = pd.read_pickle(preprocessed_test_filepath)\n",
    "\n",
    "# preprocessed_train = preprocessed_train[preprocessed_train['source_language'] == 'Hindi']\n",
    "display(preprocessed_train.shape)\n",
    "display(preprocessed_train.head())\n",
    "display(preprocessed_val.head())"
   ]
  },
  {
   "cell_type": "markdown",
   "metadata": {},
   "source": [
    "## Loading vectors of tokens\n",
    "\n",
    "Using fastText API along with IndicNLP (pre-trained) fastText model to assign vector representations to each token. FastText works on sub-token level so I have changed the tokenizer to SentencePiece as that is what is used by FastText."
   ]
  },
  {
   "cell_type": "markdown",
   "metadata": {},
   "source": [
    "## Data loader, sorting and padding"
   ]
  },
  {
   "cell_type": "code",
   "execution_count": null,
   "metadata": {},
   "outputs": [],
   "source": [
    "from random import choice\n",
    "class MTDataset(Dataset):\n",
    "    def __init__(self, sources, targets, ids):\n",
    "        super().__init__()\n",
    "        self.sources = sources\n",
    "        self.targets = targets\n",
    "        self.ids = ids\n",
    "    def __getitem__(self, index):\n",
    "        if len(self.targets) > 0:\n",
    "            # index = choice([0,10000])\n",
    "            return (\n",
    "                # self.sources[index], # source\n",
    "                np.concatenate((np.array([2]), self.sources[index], np.array([3])), axis=0), # source\n",
    "                np.concatenate((self.targets[index], np.array([3])), axis=0), # target-output\n",
    "                np.concatenate((np.array([2]), self.targets[index]), axis=0), # target-input\n",
    "                self.ids[index])\n",
    "        return (np.concatenate((np.array([2]), self.sources[index], np.array([3])), axis=0), [], [], self.ids[index]) # source\n",
    "\n",
    "    def __len__(self):\n",
    "        return len(self.sources)\n",
    "\n",
    "def pad_source_targets(batch, max_len = 120):\n",
    "    sources = pad_sequence([torch.tensor(s) for s, _, _, _ in batch], batch_first=False)\n",
    "    target_output = pad_sequence([torch.tensor(t) for _, t, _, _ in batch], batch_first=False)\n",
    "    target_input = pad_sequence([torch.tensor(t) for _, _, t, _ in batch], batch_first=False)\n",
    "    ids = torch.tensor([torch.tensor(idx) for _, _, _, idx in batch])\n",
    "    return sources, target_output, target_input, ids\n",
    "\n",
    "train_data = preprocessed_train.copy()\n",
    "\n",
    "dataset = MTDataset(train_data['source_tokens'].values, train_data['target_tokens'].values, train_data['id'].astype('int').values)\n",
    "\n",
    "random_sampler = RandomSampler(data_source=dataset, num_samples=7*6000)\n",
    "\n",
    "SOURCE_EMBEDDING_VOCAB = SOURCE_VOCAB\n",
    "dataloader = DataLoader(dataset, sampler = random_sampler, batch_size = TRAIN_BATCH_SIZE, collate_fn=pad_source_targets)\n",
    "\n",
    "dataloader"
   ]
  },
  {
   "cell_type": "markdown",
   "metadata": {},
   "source": [
    "## Model\n",
    "\n",
    "Using a transformer model from pytorch tutorial "
   ]
  },
  {
   "cell_type": "code",
   "execution_count": null,
   "metadata": {},
   "outputs": [],
   "source": [
    "###############################################################################\n",
    "# Transformer Model\n",
    "###############################################################################\n",
    "\n",
    "class PositionalEncoding(nn.Module):\n",
    "    def __init__(self,\n",
    "                 emb_size: int,\n",
    "                 dropout: float,\n",
    "                 maxlen: int = 5000):\n",
    "        super(PositionalEncoding, self).__init__()\n",
    "        den = torch.exp(- torch.arange(0, emb_size, 2)* math.log(10000) / emb_size)\n",
    "        pos = torch.arange(0, maxlen).reshape(maxlen, 1)\n",
    "        pos_embedding = torch.zeros((maxlen, emb_size))\n",
    "        pos_embedding[:, 0::2] = torch.sin(pos * den)\n",
    "        pos_embedding[:, 1::2] = torch.cos(pos * den)\n",
    "        pos_embedding = pos_embedding.unsqueeze(-2)\n",
    "\n",
    "        self.dropout = nn.Dropout(dropout)\n",
    "        self.register_buffer('pos_embedding', pos_embedding)\n",
    "\n",
    "    def forward(self, token_embedding: Tensor):\n",
    "        return self.dropout(token_embedding + self.pos_embedding[:token_embedding.size(0), :])\n",
    "\n",
    "    \n",
    "class TokenEmbedding(nn.Module):\n",
    "    '''\n",
    "    Convert token values to embedding values, also apply\n",
    "    scaling with respect to dimensions of the embedding\n",
    "    '''\n",
    "    def __init__(self, vocab_size: int, emb_size: int, *args, **kwargs):\n",
    "        super().__init__(*args, **kwargs)\n",
    "        self.embedding = nn.Embedding(vocab_size, emb_size, padding_idx=0, device=device)\n",
    "        self.emb_size = emb_size\n",
    "\n",
    "    def forward(self, tokens: Tensor):\n",
    "        return self.embedding(tokens.long()) * math.sqrt(self.emb_size)\n",
    "    \n",
    "\n",
    "class Seq2SeqTransformer(nn.Module):\n",
    "    '''\n",
    "    Seq2Seq network based on 'Attention is all you need'\n",
    "    '''\n",
    "    def __init__(self,\n",
    "                 num_encoder_layers: int = 3, num_decoder_layers: int = 3,\n",
    "                 emb_size: int = 512, n_heads: int = 8, \n",
    "                 src_vocab_size = 7*32_000, tgt_vocab_size = 32_000,\n",
    "                 dim_feedforward = 512,\n",
    "                 dropout = 0.1, *args, **kwargs) -> None:\n",
    "        super().__init__(*args, **kwargs)\n",
    "        self.transformer = nn.Transformer(d_model = emb_size,\n",
    "                                          nhead=n_heads,\n",
    "                                          num_encoder_layers=num_encoder_layers,\n",
    "                                          num_decoder_layers=num_decoder_layers,\n",
    "                                          dim_feedforward=dim_feedforward,\n",
    "                                          dropout=dropout, batch_first=False)\n",
    "        self.generator = nn.Linear(emb_size, tgt_vocab_size)\n",
    "        self.src_tok_emb = TokenEmbedding(src_vocab_size, emb_size)\n",
    "        self.tgt_tok_emb = TokenEmbedding(tgt_vocab_size, emb_size)\n",
    "        self.positional_encoding = PositionalEncoding(\n",
    "            emb_size, dropout = dropout)\n",
    "    \n",
    "    def forward(self, src: Tensor, target: Tensor,\n",
    "                src_mask: Tensor, target_mask: Tensor,\n",
    "                source_padding_mask: Tensor, target_padding_mask: Tensor,\n",
    "                memory_key_padding_mask: Tensor):\n",
    "        src_emb = self.positional_encoding(self.src_tok_emb(src.to(device)))\n",
    "        tgt_emb = self.positional_encoding(self.tgt_tok_emb(target.to(device)))\n",
    "        outs = self.transformer(src_emb, tgt_emb, src_mask, target_mask, None, \n",
    "                                source_padding_mask, target_padding_mask, memory_key_padding_mask)\n",
    "        return self.generator(outs)\n",
    "    \n",
    "    def encode(self, src: Tensor, src_mask: Tensor, src_key_padding_mask=None):\n",
    "        return self.transformer.encoder(self.positional_encoding(\n",
    "                            self.src_tok_emb(src)), src_mask, src_key_padding_mask)\n",
    "    \n",
    "    def decode(self, tgt: Tensor, memory: Tensor, tgt_mask: Tensor):\n",
    "        return self.transformer.decoder(self.positional_encoding(\n",
    "                          self.tgt_tok_emb(tgt)), memory,\n",
    "                          tgt_mask)\n",
    "    \n",
    "    def decode(self, tgt: Tensor, memory: Tensor, tgt_mask: Tensor):\n",
    "        return self.transformer.decoder(self.positional_encoding(\n",
    "                          self.tgt_tok_emb(tgt)), memory,\n",
    "                          tgt_mask)\n"
   ]
  },
  {
   "cell_type": "code",
   "execution_count": null,
   "metadata": {},
   "outputs": [],
   "source": [
    "# utility methods for train loop\n",
    "def showLossPlot(losses: list):\n",
    "    plt.plot(losses)\n",
    "    plt.title('Loss Curve')\n",
    "    \n",
    "def generate_square_subsequent_mask(size):\n",
    "    mask = torch.triu(torch.ones((size, size)) == 1).transpose(0, 1)\n",
    "    mask = mask.float().masked_fill(mask == 0, float('-inf')).masked_fill(mask==1, float(0.0))\n",
    "    return mask\n",
    "    \n",
    "def create_mask(src, tgt):\n",
    "    src_seq_len = src.shape[0]\n",
    "    tgt_seq_len = tgt.shape[0]\n",
    "\n",
    "    tgt_mask = generate_square_subsequent_mask(tgt_seq_len).to(device)\n",
    "    src_mask = torch.zeros((src_seq_len, src_seq_len)).type(torch.bool).to(device)\n",
    "\n",
    "    src_padding_mask = (src == 0).transpose(0, 1).to(device)\n",
    "    tgt_padding_mask = (tgt == 0).transpose(0, 1).to(device)\n",
    "    return src_mask, tgt_mask, src_padding_mask, tgt_padding_mask"
   ]
  },
  {
   "cell_type": "code",
   "execution_count": null,
   "metadata": {},
   "outputs": [],
   "source": [
    "def save_model(model, optimizer, loss_fn, epochs, this_epochs, model_filepath, plot_losses = None):\n",
    "    \"\"\"Save the model and hyperparameters to `model_filepath`\n",
    "\n",
    "    Args:\n",
    "        model (nn.Module): Object of the model to be saved.\n",
    "        optimizer (torch.optim): Optimizer object.\n",
    "        loss_fn (nn.*): Loss function object.\n",
    "        epochs (int): Previous epochs, if model was trained. Give 0 if default.\n",
    "        this_epochs (int): Number of epochs trained in the current execution.\n",
    "        model_filepath (str): PATH of the model.\n",
    "    \"\"\"\n",
    "    torch.save({\n",
    "            'model': model,\n",
    "            'model_state_dict': model.state_dict(),\n",
    "            'optimizer': optimizer,\n",
    "            'optim_state_dict': optimizer.state_dict(),\n",
    "            'loss': loss_fn,\n",
    "            'loss_state_dict': loss_fn.state_dict(),\n",
    "            'epochs': epochs + this_epochs,\n",
    "            'plot_losses': plot_losses\n",
    "        }, model_filepath)"
   ]
  },
  {
   "cell_type": "code",
   "execution_count": null,
   "metadata": {},
   "outputs": [],
   "source": [
    "def train_epoch_trf(dataloader, model, optimizer, loss_fn, epochs, epoch, encoder_eval = False):\n",
    "    total_loss = 0\n",
    "    batch_losses = []\n",
    "\n",
    "    model.train()\n",
    "    optimizer.zero_grad()\n",
    "    \n",
    "    effective_batch_size = 13\n",
    "    n_batches = int(len(dataloader)/(effective_batch_size)) + 1\n",
    "    batch_counter = 0\n",
    "    show_after = 350\n",
    "    \n",
    "    loss = 0\n",
    "    \n",
    "    for batch_idx, batch in tqdm(enumerate(dataloader), total=len(dataloader), ncols=100, desc=f\"Training epoch {epochs + epoch + 1}\"):\n",
    "        \n",
    "        source = batch[0].to(device)\n",
    "        batch_size = source.size(1)\n",
    "\n",
    "        target_output = batch[1].to(device)\n",
    "\n",
    "        target_input = batch[2].to(device)\n",
    "\n",
    "        src_mask, tgt_mask, src_padding_mask, tgt_padding_mask = create_mask(source, target_input)\n",
    "\n",
    "        logits = model(source, target_input, src_mask, tgt_mask,\n",
    "                       src_padding_mask, tgt_padding_mask, src_padding_mask)\n",
    "\n",
    "        loss = loss_fn(\n",
    "            logits.view(-1, logits.size(-1)),\n",
    "            target_output.type(torch.long).reshape(-1))\n",
    "\n",
    "        loss = loss / effective_batch_size\n",
    "\n",
    "        loss.backward()\n",
    "\n",
    "        total_loss += loss.item()*effective_batch_size\n",
    "        batch_losses.append(loss.item())\n",
    "        if ((batch_idx+1) % effective_batch_size == 0) or (batch_idx + 1 == len(dataloader)):\n",
    "            writer.add_scalar('Batch Loss', loss, (epochs + epoch) * n_batches + batch_counter)\n",
    "            batch_counter += 1\n",
    "            optimizer.step()\n",
    "            optimizer.zero_grad()\n",
    "\n",
    "    gc.collect()\n",
    "    return total_loss/len(dataloader), batch_losses\n",
    "\n",
    "def train_and_save(data, tokenizer, model, optimizer, loss_fn, batch_size, epochs, this_epochs, model_filepath, encoder_eval = False):\n",
    "    try:\n",
    "        plot_losses = []\n",
    "        plot_batch_losses = []\n",
    "        \n",
    "\n",
    "        for epoch in range(0, this_epochs):\n",
    "            loss, batch_loss = train_epoch_trf(dataloader, model, optimizer, loss_fn, epochs = epochs, epoch=epoch, encoder_eval=encoder_eval)\n",
    "            print(f'Train Loss: {loss}')\n",
    "            writer.add_scalar('Train Loss', loss, epochs + epoch)\n",
    "            print(f'Batch Loss: {batch_loss}')\n",
    "            # writer.add_scalars('Batch Loss', batch_loss, epoch)\n",
    "            plot_losses.append(loss)\n",
    "            plot_batch_losses.extend(batch_loss)\n",
    "            save_model(model, optimizer, loss_fn, epochs, epoch, model_filepath, plot_losses=plot_losses)\n",
    "        # print(f'Complete train loss: {plot_batch_losses}')\n",
    "        showLossPlot(plot_batch_losses)\n",
    "        # print(plot_batch_losses)\n",
    "        return plot_losses, plot_batch_losses\n",
    "    except Exception as e:\n",
    "        raise e\n",
    "    finally:\n",
    "        save_model(model, optimizer, loss_fn, epochs, epoch, model_filepath, plot_losses=plot_losses)"
   ]
  },
  {
   "cell_type": "code",
   "execution_count": null,
   "metadata": {},
   "outputs": [],
   "source": [
    "plot_losses = []"
   ]
  },
  {
   "cell_type": "code",
   "execution_count": null,
   "metadata": {},
   "outputs": [],
   "source": [
    "def load_weights_if_exists(model, optimizer, loss_fn, plot_losses, epochs, model_filepath):\n",
    "    \"\"\"Loads the existing model from `model_filepath`\n",
    "\n",
    "    Args:\n",
    "        model (nn.Module): The model who's weights are loaded\n",
    "        optimizer : Model optimizer\n",
    "        loss_fn : Model Loss function\n",
    "        plot_losses : An array to capture batch losses\n",
    "        epochs : No. of epochs done by the model\n",
    "        model_filepath (str): Filepath of the model\n",
    "\n",
    "    Returns:\n",
    "        model (nn.Module): The model who's weights are loaded\n",
    "        optimizer : Model optimizer\n",
    "        loss_fn : Model Loss function\n",
    "        plot_losses : An array to capture batch losses\n",
    "        epochs : No. of epochs done by the model\n",
    "    \"\"\"\n",
    "    if os.path.exists(model_filepath):\n",
    "        print('Loading stored weights')\n",
    "        states = torch.load(model_filepath, map_location=device)\n",
    "        if 'model' in states:\n",
    "            model = states['model']\n",
    "        if 'model_state_dict' in states:\n",
    "            model.load_state_dict(states['model_state_dict'])\n",
    "        if 'optimizer' in states:\n",
    "            optimizer = states['optimizer']\n",
    "        if 'optim_state_dict' in states:\n",
    "            optimizer.load_state_dict(states['optim_state_dict'])\n",
    "        if 'loss_fn' in states:\n",
    "            loss_fn = states['loss_fn']\n",
    "        if 'loss_state_dict' in states:\n",
    "            loss_fn.load_state_dict(states['loss_state_dict'])\n",
    "        if 'plot_losses' in states:\n",
    "            plot_losses = states['plot_losses']\n",
    "        if 'epochs' in states:\n",
    "            epochs = states['epochs']\n",
    "        model = model.to(device)\n",
    "    return model, optimizer, loss_fn, plot_losses, epochs"
   ]
  },
  {
   "cell_type": "code",
   "execution_count": null,
   "metadata": {},
   "outputs": [],
   "source": [
    "###############################################################################\n",
    "# Defining the model\n",
    "###############################################################################\n",
    "model = Seq2SeqTransformer(\n",
    "     num_encoder_layers=ENCODER_NUM_LAYERS,\n",
    "     num_decoder_layers=DECODER_NUM_LAYERS,\n",
    "     n_heads=N_ATTENTION_HEADS,\n",
    "     src_vocab_size=SOURCE_VOCAB,\n",
    "     tgt_vocab_size=TARGET_VOCAB).to(device)\n",
    "\n",
    "# Model weight initialization\n",
    "for p in model.parameters():\n",
    "        if p.dim() > 1:\n",
    "            nn.init.xavier_uniform_(p)\n",
    "\n",
    "###############################################################################\n",
    "# Initializing optimizer and loss function\n",
    "###############################################################################\n",
    "optimizer = optim.Adam(model.parameters(), lr = 1e-3, betas=(0.9, 0.98), eps=1e-9)\n",
    "# optimizer = optim.Adam(model.parameters(), lr = 1e-3, weight_decay=1e-6)\n",
    "# optimizer = optim.SGD(model.parameters(), lr = 1e-10)\n",
    "# loss_fn = nn.NLLLoss()\n",
    "loss_fn = nn.CrossEntropyLoss(ignore_index=0)\n",
    "\n",
    "###############################################################################\n",
    "# Epochs\n",
    "###############################################################################\n",
    "this_epochs = 40\n",
    "epochs = 0\n",
    "\n",
    "###############################################################################\n",
    "# Loading model and trainer if exists\n",
    "###############################################################################\n",
    "model, optimizer, loss_fn, plot_losses, epochs = load_weights_if_exists(\n",
    "     model, optimizer, loss_fn, plot_losses, epochs, model_filepath)\n",
    "\n",
    "start_time = datetime.now()\n",
    "\n",
    "###############################################################################\n",
    "# Training\n",
    "###############################################################################\n",
    "losses, _ = train_and_save(\n",
    "    dataloader, \n",
    "    sp_tokenizer,\n",
    "    model,\n",
    "    optimizer,\n",
    "    loss_fn,\n",
    "    TRAIN_BATCH_SIZE,\n",
    "    epochs=epochs,\n",
    "    this_epochs=this_epochs,\n",
    "    model_filepath=model_filepath,\n",
    "    encoder_eval=False\n",
    "    )\n",
    "plot_losses.extend(losses)\n",
    "\n",
    "end_time = datetime.now()\n",
    "tt = end_time - start_time\n",
    "display(tt)"
   ]
  },
  {
   "cell_type": "code",
   "execution_count": 51,
   "metadata": {},
   "outputs": [
    {
     "data": {
      "text/plain": [
       "'Number of parameters in the model 47809296'"
      ]
     },
     "execution_count": 51,
     "metadata": {},
     "output_type": "execute_result"
    }
   ],
   "source": [
    "num_params = sum([p.numel() for p in model.parameters()])\n",
    "f'Number of parameters in the model {num_params}'\n"
   ]
  },
  {
   "cell_type": "code",
   "execution_count": null,
   "metadata": {},
   "outputs": [
    {
     "data": {
      "text/plain": [
       "91"
      ]
     },
     "metadata": {},
     "output_type": "display_data"
    }
   ],
   "source": [
    "epochs"
   ]
  },
  {
   "cell_type": "markdown",
   "metadata": {},
   "source": [
    "## Translating"
   ]
  },
  {
   "cell_type": "code",
   "execution_count": null,
   "metadata": {},
   "outputs": [],
   "source": [
    "def pad_source(batch, max_len=40):\n",
    "    sources = pad_sequence([torch.tensor(s) for s, _, _, _ in batch], batch_first=False)\n",
    "    ids = torch.tensor([torch.tensor(idx) for _, _, _, idx in batch])\n",
    "    return sources, ids\n",
    "\n",
    "val_data = preprocessed_val.copy()\n",
    "\n",
    "dataset_val = MTDataset(val_data['source_tokens'].values, [], val_data['id'].astype('int').values)\n",
    "dataloader_val = DataLoader(dataset_val, batch_size=VAL_BATCH_SIZE, collate_fn=pad_source)\n",
    "\n",
    "# Testing data\n",
    "test_data = preprocessed_test.copy()\n",
    "\n",
    "dataset_test = MTDataset(test_data['source_tokens'].values, [], test_data['id'].astype('int').values)\n",
    "dataloader_test = DataLoader(dataset_test, batch_size=VAL_BATCH_SIZE, collate_fn=pad_source)\n"
   ]
  },
  {
   "cell_type": "markdown",
   "metadata": {},
   "source": [
    "### Decoder"
   ]
  },
  {
   "cell_type": "markdown",
   "metadata": {},
   "source": [
    "##### Greedy Search"
   ]
  },
  {
   "cell_type": "code",
   "execution_count": null,
   "metadata": {},
   "outputs": [],
   "source": [
    "def greedy_decode_trf(src, id, model, max_len = 10):\n",
    "    model.eval()\n",
    "    with torch.no_grad():\n",
    "        with torch.inference_mode():\n",
    "            # try:\n",
    "                # val_ids.append([idd for _, _, idd in batch])\n",
    "                # print(src.size())\n",
    "                # exit()\n",
    "                source = src.to(device)\n",
    "                src_seq_len = source.shape[0]\n",
    "                tgt_seq_len = max_len\n",
    "\n",
    "                src_mask = torch.zeros((src_seq_len, src_seq_len)).type(torch.bool).to(device)\n",
    "\n",
    "                src_padding_mask = (source == 0)\n",
    "                memory = model.encode(source, src_mask)\n",
    "\n",
    "                ys = torch.ones(1, 1).fill_(2).type(torch.long).to(device)\n",
    "\n",
    "                for i in range(100):\n",
    "                # while(True):\n",
    "                    tgt_mask = (generate_square_subsequent_mask(ys.size(0)).type(torch.bool)).to(device)\n",
    "                    out = model.decode(ys, memory, tgt_mask)\n",
    "                    # display(out.shape)\n",
    "                    # out = out.transpose(0,1)\n",
    "                    # prob = model.generator(out[:, -1])\n",
    "                    prob = model.generator(out[-1, :])\n",
    "                    _, next_word = torch.max(prob, dim=1)\n",
    "                    next_word = next_word.item()\n",
    "                    ys = torch.cat([ys, torch.ones(1, 1).type_as(source.data).fill_(next_word)], dim=0)\n",
    "\n",
    "                    if (next_word == 3):\n",
    "                        break\n",
    "                return ys\n",
    "                \n",
    "            # except Exception as e:\n",
    "            #     print(id)\n",
    "            #     print(e.with_traceback())"
   ]
  },
  {
   "cell_type": "code",
   "execution_count": null,
   "metadata": {},
   "outputs": [
    {
     "name": "stdout",
     "output_type": "stream",
     "text": [
      "बस कुछ बातों का ध्यान रखना होगा |\n",
      "Only some things need to be kept in mind .\n",
      "The thing of some things will be kept in mind .\"\n"
     ]
    }
   ],
   "source": [
    "# Greedy decoding\n",
    "row = preprocessed_train.loc[preprocessed_train['source_language'] == 'Hindi']\n",
    "test_id = 106\n",
    "sent = row['source'].iloc[test_id]\n",
    "target_input = row['target'].iloc[test_id]\n",
    "ids = [2] + sp_tokenizer.encode(sent, 'Indian') + [3]\n",
    "tokens = sp_tokenizer.get_tokens(sent, 'Indian')\n",
    "# print(sent)\n",
    "# display(ids)\n",
    "# display(tokens)\n",
    "\n",
    "decoded = sp_tokenizer.decode(ids, 'English')\n",
    "# display(decoded)\n",
    "# display(row.iloc[0])\n",
    "\n",
    "model_cpu = model.to(device)\n",
    "print(sent)\n",
    "print(target_input)\n",
    "predicted_logits = greedy_decode_trf(torch.tensor(ids).unsqueeze(1), 166289, model, max_len=5).squeeze().cpu().tolist()\n",
    "prediction = sp_tokenizer.decode(predicted_logits, 'English').replace('! ','')\n",
    "print(prediction)\n",
    "# display(predicted_logits)"
   ]
  },
  {
   "cell_type": "code",
   "execution_count": null,
   "metadata": {},
   "outputs": [
    {
     "data": {
      "text/plain": [
       "'हमेशा पशुओं का आवास - स्थान इस ढंग से बनाया जाना चाहिए कि उन्हें किसी प्रकार की तकलीफ न हो |'"
      ]
     },
     "metadata": {},
     "output_type": "display_data"
    },
    {
     "data": {
      "text/plain": [
       "'The residence of animals should be made in such a way that they should not be made any kind of problem .\"'"
      ]
     },
     "metadata": {},
     "output_type": "display_data"
    }
   ],
   "source": [
    "row = preprocessed_val.loc[preprocessed_val['source_language'] == 'Hindi']\n",
    "test_id = 14\n",
    "sent = row['source'].iloc[test_id]\n",
    "# target_input = row['target'].iloc[101]\n",
    "ids = [2] + sp_tokenizer.encode(sent, 'Indian') + [3]\n",
    "tokens = sp_tokenizer.get_tokens(sent, 'Indian')\n",
    "display(sent)\n",
    "# display(ids)\n",
    "# display(tokens)\n",
    "\n",
    "decoded = sp_tokenizer.decode(ids, 'Indian')\n",
    "# display(decoded)\n",
    "# display(row.iloc[0])\n",
    "\n",
    "model_cpu = model.to(device)\n",
    "# display(sent)\n",
    "# display(target_input)\n",
    "predicted_logits = greedy_decode_trf(torch.tensor(ids).unsqueeze(1), 166289, model, max_len=5).squeeze().cpu().tolist()\n",
    "prediction = sp_tokenizer.decode(predicted_logits, 'English').replace('! ','')\n",
    "display(prediction)\n",
    "# display(predicted_logits)"
   ]
  },
  {
   "cell_type": "code",
   "execution_count": null,
   "metadata": {},
   "outputs": [
    {
     "name": "stderr",
     "output_type": "stream",
     "text": [
      "Predicting:   1%|▎                                            | 437/57319 [00:37<1:20:33, 11.77it/s]\n"
     ]
    },
    {
     "ename": "KeyboardInterrupt",
     "evalue": "",
     "output_type": "error",
     "traceback": [
      "\u001b[1;31m---------------------------------------------------------------------------\u001b[0m\n",
      "\u001b[1;31mKeyboardInterrupt\u001b[0m                         Traceback (most recent call last)\n",
      "\u001b[1;32mc:\\Users\\divya\\Documents\\IITK\\Assignments\\CS779 - SNLP\\Machine translation\\Phase-2\\test6.ipynb Cell 42\u001b[0m line \u001b[0;36m1\n",
      "\u001b[0;32m      <a href='vscode-notebook-cell:/c%3A/Users/divya/Documents/IITK/Assignments/CS779%20-%20SNLP/Machine%20translation/Phase-2/test6.ipynb#X61sZmlsZQ%3D%3D?line=6'>7</a>\u001b[0m         prediction \u001b[39m=\u001b[39m sp_tokenizer\u001b[39m.\u001b[39mdecode(predicted_logits, \u001b[39m'\u001b[39m\u001b[39mEnglish\u001b[39m\u001b[39m'\u001b[39m)\u001b[39m.\u001b[39mreplace(\u001b[39m'\u001b[39m\u001b[39m! \u001b[39m\u001b[39m'\u001b[39m,\u001b[39m'\u001b[39m\u001b[39m'\u001b[39m)\n",
      "\u001b[0;32m      <a href='vscode-notebook-cell:/c%3A/Users/divya/Documents/IITK/Assignments/CS779%20-%20SNLP/Machine%20translation/Phase-2/test6.ipynb#X61sZmlsZQ%3D%3D?line=7'>8</a>\u001b[0m         predictions\u001b[39m.\u001b[39mappend(\u001b[39mf\u001b[39m\u001b[39m'\u001b[39m\u001b[39m{\u001b[39;00mrow[\u001b[39m\"\u001b[39m\u001b[39mid\u001b[39m\u001b[39m\"\u001b[39m]\u001b[39m}\u001b[39;00m\u001b[39m\\t\u001b[39;00m\u001b[39m\"\u001b[39m\u001b[39m{\u001b[39;00mprediction\u001b[39m}\u001b[39;00m\u001b[39m\"\u001b[39m\u001b[39m\\n\u001b[39;00m\u001b[39m'\u001b[39m)  \n",
      "\u001b[1;32m---> <a href='vscode-notebook-cell:/c%3A/Users/divya/Documents/IITK/Assignments/CS779%20-%20SNLP/Machine%20translation/Phase-2/test6.ipynb#X61sZmlsZQ%3D%3D?line=9'>10</a>\u001b[0m generate_val_file()\n",
      "\n",
      "\u001b[1;32mc:\\Users\\divya\\Documents\\IITK\\Assignments\\CS779 - SNLP\\Machine translation\\Phase-2\\test6.ipynb Cell 42\u001b[0m line \u001b[0;36m6\n",
      "\u001b[0;32m      <a href='vscode-notebook-cell:/c%3A/Users/divya/Documents/IITK/Assignments/CS779%20-%20SNLP/Machine%20translation/Phase-2/test6.ipynb#X61sZmlsZQ%3D%3D?line=3'>4</a>\u001b[0m sent \u001b[39m=\u001b[39m row[\u001b[39m'\u001b[39m\u001b[39msource\u001b[39m\u001b[39m'\u001b[39m]\n",
      "\u001b[0;32m      <a href='vscode-notebook-cell:/c%3A/Users/divya/Documents/IITK/Assignments/CS779%20-%20SNLP/Machine%20translation/Phase-2/test6.ipynb#X61sZmlsZQ%3D%3D?line=4'>5</a>\u001b[0m ids \u001b[39m=\u001b[39m [\u001b[39m2\u001b[39m] \u001b[39m+\u001b[39m sp_tokenizer\u001b[39m.\u001b[39mencode(sent, \u001b[39m'\u001b[39m\u001b[39mIndian\u001b[39m\u001b[39m'\u001b[39m) \u001b[39m+\u001b[39m [\u001b[39m3\u001b[39m]\n",
      "\u001b[1;32m----> <a href='vscode-notebook-cell:/c%3A/Users/divya/Documents/IITK/Assignments/CS779%20-%20SNLP/Machine%20translation/Phase-2/test6.ipynb#X61sZmlsZQ%3D%3D?line=5'>6</a>\u001b[0m predicted_logits \u001b[39m=\u001b[39m greedy_decode_trf(torch\u001b[39m.\u001b[39;49mtensor(ids)\u001b[39m.\u001b[39;49munsqueeze(\u001b[39m1\u001b[39;49m), row[\u001b[39m'\u001b[39;49m\u001b[39mid\u001b[39;49m\u001b[39m'\u001b[39;49m], model, max_len\u001b[39m=\u001b[39;49m\u001b[39m5\u001b[39;49m)\u001b[39m.\u001b[39msqueeze()\u001b[39m.\u001b[39mcpu()\u001b[39m.\u001b[39mtolist()\n",
      "\u001b[0;32m      <a href='vscode-notebook-cell:/c%3A/Users/divya/Documents/IITK/Assignments/CS779%20-%20SNLP/Machine%20translation/Phase-2/test6.ipynb#X61sZmlsZQ%3D%3D?line=6'>7</a>\u001b[0m prediction \u001b[39m=\u001b[39m sp_tokenizer\u001b[39m.\u001b[39mdecode(predicted_logits, \u001b[39m'\u001b[39m\u001b[39mEnglish\u001b[39m\u001b[39m'\u001b[39m)\u001b[39m.\u001b[39mreplace(\u001b[39m'\u001b[39m\u001b[39m! \u001b[39m\u001b[39m'\u001b[39m,\u001b[39m'\u001b[39m\u001b[39m'\u001b[39m)\n",
      "\u001b[0;32m      <a href='vscode-notebook-cell:/c%3A/Users/divya/Documents/IITK/Assignments/CS779%20-%20SNLP/Machine%20translation/Phase-2/test6.ipynb#X61sZmlsZQ%3D%3D?line=7'>8</a>\u001b[0m predictions\u001b[39m.\u001b[39mappend(\u001b[39mf\u001b[39m\u001b[39m'\u001b[39m\u001b[39m{\u001b[39;00mrow[\u001b[39m\"\u001b[39m\u001b[39mid\u001b[39m\u001b[39m\"\u001b[39m]\u001b[39m}\u001b[39;00m\u001b[39m\\t\u001b[39;00m\u001b[39m\"\u001b[39m\u001b[39m{\u001b[39;00mprediction\u001b[39m}\u001b[39;00m\u001b[39m\"\u001b[39m\u001b[39m\\n\u001b[39;00m\u001b[39m'\u001b[39m)\n",
      "\n",
      "\u001b[1;32mc:\\Users\\divya\\Documents\\IITK\\Assignments\\CS779 - SNLP\\Machine translation\\Phase-2\\test6.ipynb Cell 42\u001b[0m line \u001b[0;36m2\n",
      "\u001b[0;32m     <a href='vscode-notebook-cell:/c%3A/Users/divya/Documents/IITK/Assignments/CS779%20-%20SNLP/Machine%20translation/Phase-2/test6.ipynb#X61sZmlsZQ%3D%3D?line=19'>20</a>\u001b[0m \u001b[39mfor\u001b[39;00m i \u001b[39min\u001b[39;00m \u001b[39mrange\u001b[39m(\u001b[39m100\u001b[39m):\n",
      "\u001b[0;32m     <a href='vscode-notebook-cell:/c%3A/Users/divya/Documents/IITK/Assignments/CS779%20-%20SNLP/Machine%20translation/Phase-2/test6.ipynb#X61sZmlsZQ%3D%3D?line=20'>21</a>\u001b[0m \u001b[39m# while(True):\u001b[39;00m\n",
      "\u001b[0;32m     <a href='vscode-notebook-cell:/c%3A/Users/divya/Documents/IITK/Assignments/CS779%20-%20SNLP/Machine%20translation/Phase-2/test6.ipynb#X61sZmlsZQ%3D%3D?line=21'>22</a>\u001b[0m     tgt_mask \u001b[39m=\u001b[39m (generate_square_subsequent_mask(ys\u001b[39m.\u001b[39msize(\u001b[39m0\u001b[39m))\u001b[39m.\u001b[39mtype(torch\u001b[39m.\u001b[39mbool))\u001b[39m.\u001b[39mto(device)\n",
      "\u001b[1;32m---> <a href='vscode-notebook-cell:/c%3A/Users/divya/Documents/IITK/Assignments/CS779%20-%20SNLP/Machine%20translation/Phase-2/test6.ipynb#X61sZmlsZQ%3D%3D?line=22'>23</a>\u001b[0m     out \u001b[39m=\u001b[39m model\u001b[39m.\u001b[39;49mdecode(ys, memory, tgt_mask)\n",
      "\u001b[0;32m     <a href='vscode-notebook-cell:/c%3A/Users/divya/Documents/IITK/Assignments/CS779%20-%20SNLP/Machine%20translation/Phase-2/test6.ipynb#X61sZmlsZQ%3D%3D?line=23'>24</a>\u001b[0m     \u001b[39m# display(out.shape)\u001b[39;00m\n",
      "\u001b[0;32m     <a href='vscode-notebook-cell:/c%3A/Users/divya/Documents/IITK/Assignments/CS779%20-%20SNLP/Machine%20translation/Phase-2/test6.ipynb#X61sZmlsZQ%3D%3D?line=24'>25</a>\u001b[0m     \u001b[39m# out = out.transpose(0,1)\u001b[39;00m\n",
      "\u001b[0;32m     <a href='vscode-notebook-cell:/c%3A/Users/divya/Documents/IITK/Assignments/CS779%20-%20SNLP/Machine%20translation/Phase-2/test6.ipynb#X61sZmlsZQ%3D%3D?line=25'>26</a>\u001b[0m     \u001b[39m# prob = model.generator(out[:, -1])\u001b[39;00m\n",
      "\u001b[0;32m     <a href='vscode-notebook-cell:/c%3A/Users/divya/Documents/IITK/Assignments/CS779%20-%20SNLP/Machine%20translation/Phase-2/test6.ipynb#X61sZmlsZQ%3D%3D?line=26'>27</a>\u001b[0m     prob \u001b[39m=\u001b[39m model\u001b[39m.\u001b[39mgenerator(out[\u001b[39m-\u001b[39m\u001b[39m1\u001b[39m, :])\n",
      "\n",
      "\u001b[1;32mc:\\Users\\divya\\Documents\\IITK\\Assignments\\CS779 - SNLP\\Machine translation\\Phase-2\\test6.ipynb Cell 42\u001b[0m line \u001b[0;36m8\n",
      "\u001b[0;32m     <a href='vscode-notebook-cell:/c%3A/Users/divya/Documents/IITK/Assignments/CS779%20-%20SNLP/Machine%20translation/Phase-2/test6.ipynb#X61sZmlsZQ%3D%3D?line=80'>81</a>\u001b[0m \u001b[39mdef\u001b[39;00m \u001b[39mdecode\u001b[39m(\u001b[39mself\u001b[39m, tgt: Tensor, memory: Tensor, tgt_mask: Tensor):\n",
      "\u001b[1;32m---> <a href='vscode-notebook-cell:/c%3A/Users/divya/Documents/IITK/Assignments/CS779%20-%20SNLP/Machine%20translation/Phase-2/test6.ipynb#X61sZmlsZQ%3D%3D?line=81'>82</a>\u001b[0m     \u001b[39mreturn\u001b[39;00m \u001b[39mself\u001b[39;49m\u001b[39m.\u001b[39;49mtransformer\u001b[39m.\u001b[39;49mdecoder(\u001b[39mself\u001b[39;49m\u001b[39m.\u001b[39;49mpositional_encoding(\n",
      "\u001b[0;32m     <a href='vscode-notebook-cell:/c%3A/Users/divya/Documents/IITK/Assignments/CS779%20-%20SNLP/Machine%20translation/Phase-2/test6.ipynb#X61sZmlsZQ%3D%3D?line=82'>83</a>\u001b[0m                       \u001b[39mself\u001b[39;49m\u001b[39m.\u001b[39;49mtgt_tok_emb(tgt)), memory,\n",
      "\u001b[0;32m     <a href='vscode-notebook-cell:/c%3A/Users/divya/Documents/IITK/Assignments/CS779%20-%20SNLP/Machine%20translation/Phase-2/test6.ipynb#X61sZmlsZQ%3D%3D?line=83'>84</a>\u001b[0m                       tgt_mask)\n",
      "\n",
      "File \u001b[1;32mc:\\Users\\divya\\anaconda3\\envs\\pytorch_cuda_py39\\lib\\site-packages\\torch\\nn\\modules\\module.py:1501\u001b[0m, in \u001b[0;36mModule._call_impl\u001b[1;34m(self, *args, **kwargs)\u001b[0m\n",
      "\u001b[0;32m   1496\u001b[0m \u001b[39m# If we don't have any hooks, we want to skip the rest of the logic in\u001b[39;00m\n",
      "\u001b[0;32m   1497\u001b[0m \u001b[39m# this function, and just call forward.\u001b[39;00m\n",
      "\u001b[0;32m   1498\u001b[0m \u001b[39mif\u001b[39;00m \u001b[39mnot\u001b[39;00m (\u001b[39mself\u001b[39m\u001b[39m.\u001b[39m_backward_hooks \u001b[39mor\u001b[39;00m \u001b[39mself\u001b[39m\u001b[39m.\u001b[39m_backward_pre_hooks \u001b[39mor\u001b[39;00m \u001b[39mself\u001b[39m\u001b[39m.\u001b[39m_forward_hooks \u001b[39mor\u001b[39;00m \u001b[39mself\u001b[39m\u001b[39m.\u001b[39m_forward_pre_hooks\n",
      "\u001b[0;32m   1499\u001b[0m         \u001b[39mor\u001b[39;00m _global_backward_pre_hooks \u001b[39mor\u001b[39;00m _global_backward_hooks\n",
      "\u001b[0;32m   1500\u001b[0m         \u001b[39mor\u001b[39;00m _global_forward_hooks \u001b[39mor\u001b[39;00m _global_forward_pre_hooks):\n",
      "\u001b[1;32m-> 1501\u001b[0m     \u001b[39mreturn\u001b[39;00m forward_call(\u001b[39m*\u001b[39margs, \u001b[39m*\u001b[39m\u001b[39m*\u001b[39mkwargs)\n",
      "\u001b[0;32m   1502\u001b[0m \u001b[39m# Do not call functions when jit is used\u001b[39;00m\n",
      "\u001b[0;32m   1503\u001b[0m full_backward_hooks, non_full_backward_hooks \u001b[39m=\u001b[39m [], []\n",
      "\n",
      "File \u001b[1;32mc:\\Users\\divya\\anaconda3\\envs\\pytorch_cuda_py39\\lib\\site-packages\\torch\\nn\\modules\\transformer.py:369\u001b[0m, in \u001b[0;36mTransformerDecoder.forward\u001b[1;34m(self, tgt, memory, tgt_mask, memory_mask, tgt_key_padding_mask, memory_key_padding_mask)\u001b[0m\n",
      "\u001b[0;32m    366\u001b[0m output \u001b[39m=\u001b[39m tgt\n",
      "\u001b[0;32m    368\u001b[0m \u001b[39mfor\u001b[39;00m mod \u001b[39min\u001b[39;00m \u001b[39mself\u001b[39m\u001b[39m.\u001b[39mlayers:\n",
      "\u001b[1;32m--> 369\u001b[0m     output \u001b[39m=\u001b[39m mod(output, memory, tgt_mask\u001b[39m=\u001b[39;49mtgt_mask,\n",
      "\u001b[0;32m    370\u001b[0m                  memory_mask\u001b[39m=\u001b[39;49mmemory_mask,\n",
      "\u001b[0;32m    371\u001b[0m                  tgt_key_padding_mask\u001b[39m=\u001b[39;49mtgt_key_padding_mask,\n",
      "\u001b[0;32m    372\u001b[0m                  memory_key_padding_mask\u001b[39m=\u001b[39;49mmemory_key_padding_mask)\n",
      "\u001b[0;32m    374\u001b[0m \u001b[39mif\u001b[39;00m \u001b[39mself\u001b[39m\u001b[39m.\u001b[39mnorm \u001b[39mis\u001b[39;00m \u001b[39mnot\u001b[39;00m \u001b[39mNone\u001b[39;00m:\n",
      "\u001b[0;32m    375\u001b[0m     output \u001b[39m=\u001b[39m \u001b[39mself\u001b[39m\u001b[39m.\u001b[39mnorm(output)\n",
      "\n",
      "File \u001b[1;32mc:\\Users\\divya\\anaconda3\\envs\\pytorch_cuda_py39\\lib\\site-packages\\torch\\nn\\modules\\module.py:1501\u001b[0m, in \u001b[0;36mModule._call_impl\u001b[1;34m(self, *args, **kwargs)\u001b[0m\n",
      "\u001b[0;32m   1496\u001b[0m \u001b[39m# If we don't have any hooks, we want to skip the rest of the logic in\u001b[39;00m\n",
      "\u001b[0;32m   1497\u001b[0m \u001b[39m# this function, and just call forward.\u001b[39;00m\n",
      "\u001b[0;32m   1498\u001b[0m \u001b[39mif\u001b[39;00m \u001b[39mnot\u001b[39;00m (\u001b[39mself\u001b[39m\u001b[39m.\u001b[39m_backward_hooks \u001b[39mor\u001b[39;00m \u001b[39mself\u001b[39m\u001b[39m.\u001b[39m_backward_pre_hooks \u001b[39mor\u001b[39;00m \u001b[39mself\u001b[39m\u001b[39m.\u001b[39m_forward_hooks \u001b[39mor\u001b[39;00m \u001b[39mself\u001b[39m\u001b[39m.\u001b[39m_forward_pre_hooks\n",
      "\u001b[0;32m   1499\u001b[0m         \u001b[39mor\u001b[39;00m _global_backward_pre_hooks \u001b[39mor\u001b[39;00m _global_backward_hooks\n",
      "\u001b[0;32m   1500\u001b[0m         \u001b[39mor\u001b[39;00m _global_forward_hooks \u001b[39mor\u001b[39;00m _global_forward_pre_hooks):\n",
      "\u001b[1;32m-> 1501\u001b[0m     \u001b[39mreturn\u001b[39;00m forward_call(\u001b[39m*\u001b[39margs, \u001b[39m*\u001b[39m\u001b[39m*\u001b[39mkwargs)\n",
      "\u001b[0;32m   1502\u001b[0m \u001b[39m# Do not call functions when jit is used\u001b[39;00m\n",
      "\u001b[0;32m   1503\u001b[0m full_backward_hooks, non_full_backward_hooks \u001b[39m=\u001b[39m [], []\n",
      "\n",
      "File \u001b[1;32mc:\\Users\\divya\\anaconda3\\envs\\pytorch_cuda_py39\\lib\\site-packages\\torch\\nn\\modules\\transformer.py:718\u001b[0m, in \u001b[0;36mTransformerDecoderLayer.forward\u001b[1;34m(self, tgt, memory, tgt_mask, memory_mask, tgt_key_padding_mask, memory_key_padding_mask, tgt_is_causal, memory_is_causal)\u001b[0m\n",
      "\u001b[0;32m    716\u001b[0m     x \u001b[39m=\u001b[39m \u001b[39mself\u001b[39m\u001b[39m.\u001b[39mnorm1(x \u001b[39m+\u001b[39m \u001b[39mself\u001b[39m\u001b[39m.\u001b[39m_sa_block(x, tgt_mask, tgt_key_padding_mask, tgt_is_causal))\n",
      "\u001b[0;32m    717\u001b[0m     x \u001b[39m=\u001b[39m \u001b[39mself\u001b[39m\u001b[39m.\u001b[39mnorm2(x \u001b[39m+\u001b[39m \u001b[39mself\u001b[39m\u001b[39m.\u001b[39m_mha_block(x, memory, memory_mask, memory_key_padding_mask, memory_is_causal))\n",
      "\u001b[1;32m--> 718\u001b[0m     x \u001b[39m=\u001b[39m \u001b[39mself\u001b[39m\u001b[39m.\u001b[39mnorm3(x \u001b[39m+\u001b[39m \u001b[39mself\u001b[39;49m\u001b[39m.\u001b[39;49m_ff_block(x))\n",
      "\u001b[0;32m    720\u001b[0m \u001b[39mreturn\u001b[39;00m x\n",
      "\n",
      "File \u001b[1;32mc:\\Users\\divya\\anaconda3\\envs\\pytorch_cuda_py39\\lib\\site-packages\\torch\\nn\\modules\\transformer.py:744\u001b[0m, in \u001b[0;36mTransformerDecoderLayer._ff_block\u001b[1;34m(self, x)\u001b[0m\n",
      "\u001b[0;32m    743\u001b[0m \u001b[39mdef\u001b[39;00m \u001b[39m_ff_block\u001b[39m(\u001b[39mself\u001b[39m, x: Tensor) \u001b[39m-\u001b[39m\u001b[39m>\u001b[39m Tensor:\n",
      "\u001b[1;32m--> 744\u001b[0m     x \u001b[39m=\u001b[39m \u001b[39mself\u001b[39;49m\u001b[39m.\u001b[39;49mlinear2(\u001b[39mself\u001b[39;49m\u001b[39m.\u001b[39;49mdropout(\u001b[39mself\u001b[39;49m\u001b[39m.\u001b[39;49mactivation(\u001b[39mself\u001b[39;49m\u001b[39m.\u001b[39;49mlinear1(x))))\n",
      "\u001b[0;32m    745\u001b[0m     \u001b[39mreturn\u001b[39;00m \u001b[39mself\u001b[39m\u001b[39m.\u001b[39mdropout3(x)\n",
      "\n",
      "File \u001b[1;32mc:\\Users\\divya\\anaconda3\\envs\\pytorch_cuda_py39\\lib\\site-packages\\torch\\nn\\modules\\module.py:1501\u001b[0m, in \u001b[0;36mModule._call_impl\u001b[1;34m(self, *args, **kwargs)\u001b[0m\n",
      "\u001b[0;32m   1496\u001b[0m \u001b[39m# If we don't have any hooks, we want to skip the rest of the logic in\u001b[39;00m\n",
      "\u001b[0;32m   1497\u001b[0m \u001b[39m# this function, and just call forward.\u001b[39;00m\n",
      "\u001b[0;32m   1498\u001b[0m \u001b[39mif\u001b[39;00m \u001b[39mnot\u001b[39;00m (\u001b[39mself\u001b[39m\u001b[39m.\u001b[39m_backward_hooks \u001b[39mor\u001b[39;00m \u001b[39mself\u001b[39m\u001b[39m.\u001b[39m_backward_pre_hooks \u001b[39mor\u001b[39;00m \u001b[39mself\u001b[39m\u001b[39m.\u001b[39m_forward_hooks \u001b[39mor\u001b[39;00m \u001b[39mself\u001b[39m\u001b[39m.\u001b[39m_forward_pre_hooks\n",
      "\u001b[0;32m   1499\u001b[0m         \u001b[39mor\u001b[39;00m _global_backward_pre_hooks \u001b[39mor\u001b[39;00m _global_backward_hooks\n",
      "\u001b[0;32m   1500\u001b[0m         \u001b[39mor\u001b[39;00m _global_forward_hooks \u001b[39mor\u001b[39;00m _global_forward_pre_hooks):\n",
      "\u001b[1;32m-> 1501\u001b[0m     \u001b[39mreturn\u001b[39;00m forward_call(\u001b[39m*\u001b[39margs, \u001b[39m*\u001b[39m\u001b[39m*\u001b[39mkwargs)\n",
      "\u001b[0;32m   1502\u001b[0m \u001b[39m# Do not call functions when jit is used\u001b[39;00m\n",
      "\u001b[0;32m   1503\u001b[0m full_backward_hooks, non_full_backward_hooks \u001b[39m=\u001b[39m [], []\n",
      "\n",
      "File \u001b[1;32mc:\\Users\\divya\\anaconda3\\envs\\pytorch_cuda_py39\\lib\\site-packages\\torch\\nn\\modules\\linear.py:114\u001b[0m, in \u001b[0;36mLinear.forward\u001b[1;34m(self, input)\u001b[0m\n",
      "\u001b[0;32m    113\u001b[0m \u001b[39mdef\u001b[39;00m \u001b[39mforward\u001b[39m(\u001b[39mself\u001b[39m, \u001b[39minput\u001b[39m: Tensor) \u001b[39m-\u001b[39m\u001b[39m>\u001b[39m Tensor:\n",
      "\u001b[1;32m--> 114\u001b[0m     \u001b[39mreturn\u001b[39;00m F\u001b[39m.\u001b[39;49mlinear(\u001b[39minput\u001b[39;49m, \u001b[39mself\u001b[39;49m\u001b[39m.\u001b[39;49mweight, \u001b[39mself\u001b[39;49m\u001b[39m.\u001b[39;49mbias)\n",
      "\n",
      "\u001b[1;31mKeyboardInterrupt\u001b[0m: "
     ]
    }
   ],
   "source": [
    "predictions = []\n",
    "def generate_val_file():\n",
    "    for idx, row in tqdm(preprocessed_val.iterrows(), total=len(preprocessed_val), ncols=100, desc='Predicting'):\n",
    "        sent = row['source']\n",
    "        ids = [2] + sp_tokenizer.encode(sent, 'Indian') + [3]\n",
    "        predicted_logits = greedy_decode_trf(torch.tensor(ids).unsqueeze(1), row['id'], model, max_len=5).squeeze().cpu().tolist()\n",
    "        prediction = sp_tokenizer.decode(predicted_logits, 'English').replace('! ','')\n",
    "        predictions.append(f'{row[\"id\"]}\\t\"{prediction}\"\\n')  \n",
    "\n",
    "generate_val_file()"
   ]
  },
  {
   "cell_type": "code",
   "execution_count": null,
   "metadata": {},
   "outputs": [
    {
     "name": "stderr",
     "output_type": "stream",
     "text": [
      "Predicting Test:   0%|                                       | 281/114643 [00:46<5:14:08,  6.07it/s]\n"
     ]
    },
    {
     "ename": "KeyboardInterrupt",
     "evalue": "",
     "output_type": "error",
     "traceback": [
      "\u001b[1;31m---------------------------------------------------------------------------\u001b[0m\n",
      "\u001b[1;31mKeyboardInterrupt\u001b[0m                         Traceback (most recent call last)\n",
      "\u001b[1;32mc:\\Users\\divya\\Documents\\IITK\\Assignments\\CS779 - SNLP\\Machine translation\\Phase-2\\test6.ipynb Cell 45\u001b[0m line \u001b[0;36m2\n",
      "\u001b[0;32m     <a href='vscode-notebook-cell:/c%3A/Users/divya/Documents/IITK/Assignments/CS779%20-%20SNLP/Machine%20translation/Phase-2/test6.ipynb#X64sZmlsZQ%3D%3D?line=15'>16</a>\u001b[0m     \u001b[39mfinally\u001b[39;00m:\n",
      "\u001b[0;32m     <a href='vscode-notebook-cell:/c%3A/Users/divya/Documents/IITK/Assignments/CS779%20-%20SNLP/Machine%20translation/Phase-2/test6.ipynb#X64sZmlsZQ%3D%3D?line=16'>17</a>\u001b[0m         f\u001b[39m.\u001b[39mclose()\n",
      "\u001b[1;32m---> <a href='vscode-notebook-cell:/c%3A/Users/divya/Documents/IITK/Assignments/CS779%20-%20SNLP/Machine%20translation/Phase-2/test6.ipynb#X64sZmlsZQ%3D%3D?line=19'>20</a>\u001b[0m generate_test_file()\n",
      "\u001b[0;32m     <a href='vscode-notebook-cell:/c%3A/Users/divya/Documents/IITK/Assignments/CS779%20-%20SNLP/Machine%20translation/Phase-2/test6.ipynb#X64sZmlsZQ%3D%3D?line=20'>21</a>\u001b[0m answer_filepath\n",
      "\n",
      "\u001b[1;32mc:\\Users\\divya\\Documents\\IITK\\Assignments\\CS779 - SNLP\\Machine translation\\Phase-2\\test6.ipynb Cell 45\u001b[0m line \u001b[0;36m9\n",
      "\u001b[0;32m      <a href='vscode-notebook-cell:/c%3A/Users/divya/Documents/IITK/Assignments/CS779%20-%20SNLP/Machine%20translation/Phase-2/test6.ipynb#X64sZmlsZQ%3D%3D?line=6'>7</a>\u001b[0m sent \u001b[39m=\u001b[39m row[\u001b[39m'\u001b[39m\u001b[39msource\u001b[39m\u001b[39m'\u001b[39m]\n",
      "\u001b[0;32m      <a href='vscode-notebook-cell:/c%3A/Users/divya/Documents/IITK/Assignments/CS779%20-%20SNLP/Machine%20translation/Phase-2/test6.ipynb#X64sZmlsZQ%3D%3D?line=7'>8</a>\u001b[0m ids \u001b[39m=\u001b[39m [\u001b[39m2\u001b[39m] \u001b[39m+\u001b[39m sp_tokenizer\u001b[39m.\u001b[39mencode(sent, \u001b[39m'\u001b[39m\u001b[39mIndian\u001b[39m\u001b[39m'\u001b[39m) \u001b[39m+\u001b[39m [\u001b[39m3\u001b[39m]\n",
      "\u001b[1;32m----> <a href='vscode-notebook-cell:/c%3A/Users/divya/Documents/IITK/Assignments/CS779%20-%20SNLP/Machine%20translation/Phase-2/test6.ipynb#X64sZmlsZQ%3D%3D?line=8'>9</a>\u001b[0m predicted_logits \u001b[39m=\u001b[39m greedy_decode_trf(torch\u001b[39m.\u001b[39;49mtensor(ids)\u001b[39m.\u001b[39;49munsqueeze(\u001b[39m1\u001b[39;49m), row[\u001b[39m'\u001b[39;49m\u001b[39mid\u001b[39;49m\u001b[39m'\u001b[39;49m], model, max_len\u001b[39m=\u001b[39;49m\u001b[39m5\u001b[39;49m)\u001b[39m.\u001b[39msqueeze()\u001b[39m.\u001b[39mcpu()\u001b[39m.\u001b[39mtolist()\n",
      "\u001b[0;32m     <a href='vscode-notebook-cell:/c%3A/Users/divya/Documents/IITK/Assignments/CS779%20-%20SNLP/Machine%20translation/Phase-2/test6.ipynb#X64sZmlsZQ%3D%3D?line=9'>10</a>\u001b[0m prediction \u001b[39m=\u001b[39m sp_tokenizer\u001b[39m.\u001b[39mdecode(predicted_logits, \u001b[39m'\u001b[39m\u001b[39mEnglish\u001b[39m\u001b[39m'\u001b[39m)\u001b[39m.\u001b[39mreplace(\u001b[39m'\u001b[39m\u001b[39m! \u001b[39m\u001b[39m'\u001b[39m,\u001b[39m'\u001b[39m\u001b[39m'\u001b[39m)\n",
      "\u001b[0;32m     <a href='vscode-notebook-cell:/c%3A/Users/divya/Documents/IITK/Assignments/CS779%20-%20SNLP/Machine%20translation/Phase-2/test6.ipynb#X64sZmlsZQ%3D%3D?line=10'>11</a>\u001b[0m f\u001b[39m.\u001b[39mwrite(\u001b[39mf\u001b[39m\u001b[39m'\u001b[39m\u001b[39m{\u001b[39;00mrow[\u001b[39m\"\u001b[39m\u001b[39mid\u001b[39m\u001b[39m\"\u001b[39m]\u001b[39m}\u001b[39;00m\u001b[39m\\t\u001b[39;00m\u001b[39m\"\u001b[39m\u001b[39m{\u001b[39;00mprediction\u001b[39m}\u001b[39;00m\u001b[39m\"\u001b[39m\u001b[39m\\n\u001b[39;00m\u001b[39m'\u001b[39m)\n",
      "\n",
      "\u001b[1;32mc:\\Users\\divya\\Documents\\IITK\\Assignments\\CS779 - SNLP\\Machine translation\\Phase-2\\test6.ipynb Cell 45\u001b[0m line \u001b[0;36m2\n",
      "\u001b[0;32m     <a href='vscode-notebook-cell:/c%3A/Users/divya/Documents/IITK/Assignments/CS779%20-%20SNLP/Machine%20translation/Phase-2/test6.ipynb#X64sZmlsZQ%3D%3D?line=19'>20</a>\u001b[0m \u001b[39mfor\u001b[39;00m i \u001b[39min\u001b[39;00m \u001b[39mrange\u001b[39m(\u001b[39m100\u001b[39m):\n",
      "\u001b[0;32m     <a href='vscode-notebook-cell:/c%3A/Users/divya/Documents/IITK/Assignments/CS779%20-%20SNLP/Machine%20translation/Phase-2/test6.ipynb#X64sZmlsZQ%3D%3D?line=20'>21</a>\u001b[0m \u001b[39m# while(True):\u001b[39;00m\n",
      "\u001b[0;32m     <a href='vscode-notebook-cell:/c%3A/Users/divya/Documents/IITK/Assignments/CS779%20-%20SNLP/Machine%20translation/Phase-2/test6.ipynb#X64sZmlsZQ%3D%3D?line=21'>22</a>\u001b[0m     tgt_mask \u001b[39m=\u001b[39m (generate_square_subsequent_mask(ys\u001b[39m.\u001b[39msize(\u001b[39m0\u001b[39m))\u001b[39m.\u001b[39mtype(torch\u001b[39m.\u001b[39mbool))\u001b[39m.\u001b[39mto(device)\n",
      "\u001b[1;32m---> <a href='vscode-notebook-cell:/c%3A/Users/divya/Documents/IITK/Assignments/CS779%20-%20SNLP/Machine%20translation/Phase-2/test6.ipynb#X64sZmlsZQ%3D%3D?line=22'>23</a>\u001b[0m     out \u001b[39m=\u001b[39m model\u001b[39m.\u001b[39;49mdecode(ys, memory, tgt_mask)\n",
      "\u001b[0;32m     <a href='vscode-notebook-cell:/c%3A/Users/divya/Documents/IITK/Assignments/CS779%20-%20SNLP/Machine%20translation/Phase-2/test6.ipynb#X64sZmlsZQ%3D%3D?line=23'>24</a>\u001b[0m     \u001b[39m# display(out.shape)\u001b[39;00m\n",
      "\u001b[0;32m     <a href='vscode-notebook-cell:/c%3A/Users/divya/Documents/IITK/Assignments/CS779%20-%20SNLP/Machine%20translation/Phase-2/test6.ipynb#X64sZmlsZQ%3D%3D?line=24'>25</a>\u001b[0m     \u001b[39m# out = out.transpose(0,1)\u001b[39;00m\n",
      "\u001b[0;32m     <a href='vscode-notebook-cell:/c%3A/Users/divya/Documents/IITK/Assignments/CS779%20-%20SNLP/Machine%20translation/Phase-2/test6.ipynb#X64sZmlsZQ%3D%3D?line=25'>26</a>\u001b[0m     \u001b[39m# prob = model.generator(out[:, -1])\u001b[39;00m\n",
      "\u001b[0;32m     <a href='vscode-notebook-cell:/c%3A/Users/divya/Documents/IITK/Assignments/CS779%20-%20SNLP/Machine%20translation/Phase-2/test6.ipynb#X64sZmlsZQ%3D%3D?line=26'>27</a>\u001b[0m     prob \u001b[39m=\u001b[39m model\u001b[39m.\u001b[39mgenerator(out[\u001b[39m-\u001b[39m\u001b[39m1\u001b[39m, :])\n",
      "\n",
      "\u001b[1;32mc:\\Users\\divya\\Documents\\IITK\\Assignments\\CS779 - SNLP\\Machine translation\\Phase-2\\test6.ipynb Cell 45\u001b[0m line \u001b[0;36m7\n",
      "\u001b[0;32m     <a href='vscode-notebook-cell:/c%3A/Users/divya/Documents/IITK/Assignments/CS779%20-%20SNLP/Machine%20translation/Phase-2/test6.ipynb#X64sZmlsZQ%3D%3D?line=75'>76</a>\u001b[0m \u001b[39mdef\u001b[39;00m \u001b[39mdecode\u001b[39m(\u001b[39mself\u001b[39m, tgt: Tensor, memory: Tensor, tgt_mask: Tensor):\n",
      "\u001b[1;32m---> <a href='vscode-notebook-cell:/c%3A/Users/divya/Documents/IITK/Assignments/CS779%20-%20SNLP/Machine%20translation/Phase-2/test6.ipynb#X64sZmlsZQ%3D%3D?line=76'>77</a>\u001b[0m     \u001b[39mreturn\u001b[39;00m \u001b[39mself\u001b[39;49m\u001b[39m.\u001b[39;49mtransformer\u001b[39m.\u001b[39;49mdecoder(\u001b[39mself\u001b[39;49m\u001b[39m.\u001b[39;49mpositional_encoding(\n",
      "\u001b[0;32m     <a href='vscode-notebook-cell:/c%3A/Users/divya/Documents/IITK/Assignments/CS779%20-%20SNLP/Machine%20translation/Phase-2/test6.ipynb#X64sZmlsZQ%3D%3D?line=77'>78</a>\u001b[0m                       \u001b[39mself\u001b[39;49m\u001b[39m.\u001b[39;49mtgt_tok_emb(tgt)), memory,\n",
      "\u001b[0;32m     <a href='vscode-notebook-cell:/c%3A/Users/divya/Documents/IITK/Assignments/CS779%20-%20SNLP/Machine%20translation/Phase-2/test6.ipynb#X64sZmlsZQ%3D%3D?line=78'>79</a>\u001b[0m                       tgt_mask)\n",
      "\n",
      "File \u001b[1;32mc:\\Users\\divya\\anaconda3\\envs\\pytorch_cuda_py39\\lib\\site-packages\\torch\\nn\\modules\\module.py:1501\u001b[0m, in \u001b[0;36mModule._call_impl\u001b[1;34m(self, *args, **kwargs)\u001b[0m\n",
      "\u001b[0;32m   1496\u001b[0m \u001b[39m# If we don't have any hooks, we want to skip the rest of the logic in\u001b[39;00m\n",
      "\u001b[0;32m   1497\u001b[0m \u001b[39m# this function, and just call forward.\u001b[39;00m\n",
      "\u001b[0;32m   1498\u001b[0m \u001b[39mif\u001b[39;00m \u001b[39mnot\u001b[39;00m (\u001b[39mself\u001b[39m\u001b[39m.\u001b[39m_backward_hooks \u001b[39mor\u001b[39;00m \u001b[39mself\u001b[39m\u001b[39m.\u001b[39m_backward_pre_hooks \u001b[39mor\u001b[39;00m \u001b[39mself\u001b[39m\u001b[39m.\u001b[39m_forward_hooks \u001b[39mor\u001b[39;00m \u001b[39mself\u001b[39m\u001b[39m.\u001b[39m_forward_pre_hooks\n",
      "\u001b[0;32m   1499\u001b[0m         \u001b[39mor\u001b[39;00m _global_backward_pre_hooks \u001b[39mor\u001b[39;00m _global_backward_hooks\n",
      "\u001b[0;32m   1500\u001b[0m         \u001b[39mor\u001b[39;00m _global_forward_hooks \u001b[39mor\u001b[39;00m _global_forward_pre_hooks):\n",
      "\u001b[1;32m-> 1501\u001b[0m     \u001b[39mreturn\u001b[39;00m forward_call(\u001b[39m*\u001b[39margs, \u001b[39m*\u001b[39m\u001b[39m*\u001b[39mkwargs)\n",
      "\u001b[0;32m   1502\u001b[0m \u001b[39m# Do not call functions when jit is used\u001b[39;00m\n",
      "\u001b[0;32m   1503\u001b[0m full_backward_hooks, non_full_backward_hooks \u001b[39m=\u001b[39m [], []\n",
      "\n",
      "File \u001b[1;32mc:\\Users\\divya\\anaconda3\\envs\\pytorch_cuda_py39\\lib\\site-packages\\torch\\nn\\modules\\transformer.py:369\u001b[0m, in \u001b[0;36mTransformerDecoder.forward\u001b[1;34m(self, tgt, memory, tgt_mask, memory_mask, tgt_key_padding_mask, memory_key_padding_mask)\u001b[0m\n",
      "\u001b[0;32m    366\u001b[0m output \u001b[39m=\u001b[39m tgt\n",
      "\u001b[0;32m    368\u001b[0m \u001b[39mfor\u001b[39;00m mod \u001b[39min\u001b[39;00m \u001b[39mself\u001b[39m\u001b[39m.\u001b[39mlayers:\n",
      "\u001b[1;32m--> 369\u001b[0m     output \u001b[39m=\u001b[39m mod(output, memory, tgt_mask\u001b[39m=\u001b[39;49mtgt_mask,\n",
      "\u001b[0;32m    370\u001b[0m                  memory_mask\u001b[39m=\u001b[39;49mmemory_mask,\n",
      "\u001b[0;32m    371\u001b[0m                  tgt_key_padding_mask\u001b[39m=\u001b[39;49mtgt_key_padding_mask,\n",
      "\u001b[0;32m    372\u001b[0m                  memory_key_padding_mask\u001b[39m=\u001b[39;49mmemory_key_padding_mask)\n",
      "\u001b[0;32m    374\u001b[0m \u001b[39mif\u001b[39;00m \u001b[39mself\u001b[39m\u001b[39m.\u001b[39mnorm \u001b[39mis\u001b[39;00m \u001b[39mnot\u001b[39;00m \u001b[39mNone\u001b[39;00m:\n",
      "\u001b[0;32m    375\u001b[0m     output \u001b[39m=\u001b[39m \u001b[39mself\u001b[39m\u001b[39m.\u001b[39mnorm(output)\n",
      "\n",
      "File \u001b[1;32mc:\\Users\\divya\\anaconda3\\envs\\pytorch_cuda_py39\\lib\\site-packages\\torch\\nn\\modules\\module.py:1501\u001b[0m, in \u001b[0;36mModule._call_impl\u001b[1;34m(self, *args, **kwargs)\u001b[0m\n",
      "\u001b[0;32m   1496\u001b[0m \u001b[39m# If we don't have any hooks, we want to skip the rest of the logic in\u001b[39;00m\n",
      "\u001b[0;32m   1497\u001b[0m \u001b[39m# this function, and just call forward.\u001b[39;00m\n",
      "\u001b[0;32m   1498\u001b[0m \u001b[39mif\u001b[39;00m \u001b[39mnot\u001b[39;00m (\u001b[39mself\u001b[39m\u001b[39m.\u001b[39m_backward_hooks \u001b[39mor\u001b[39;00m \u001b[39mself\u001b[39m\u001b[39m.\u001b[39m_backward_pre_hooks \u001b[39mor\u001b[39;00m \u001b[39mself\u001b[39m\u001b[39m.\u001b[39m_forward_hooks \u001b[39mor\u001b[39;00m \u001b[39mself\u001b[39m\u001b[39m.\u001b[39m_forward_pre_hooks\n",
      "\u001b[0;32m   1499\u001b[0m         \u001b[39mor\u001b[39;00m _global_backward_pre_hooks \u001b[39mor\u001b[39;00m _global_backward_hooks\n",
      "\u001b[0;32m   1500\u001b[0m         \u001b[39mor\u001b[39;00m _global_forward_hooks \u001b[39mor\u001b[39;00m _global_forward_pre_hooks):\n",
      "\u001b[1;32m-> 1501\u001b[0m     \u001b[39mreturn\u001b[39;00m forward_call(\u001b[39m*\u001b[39margs, \u001b[39m*\u001b[39m\u001b[39m*\u001b[39mkwargs)\n",
      "\u001b[0;32m   1502\u001b[0m \u001b[39m# Do not call functions when jit is used\u001b[39;00m\n",
      "\u001b[0;32m   1503\u001b[0m full_backward_hooks, non_full_backward_hooks \u001b[39m=\u001b[39m [], []\n",
      "\n",
      "File \u001b[1;32mc:\\Users\\divya\\anaconda3\\envs\\pytorch_cuda_py39\\lib\\site-packages\\torch\\nn\\modules\\transformer.py:717\u001b[0m, in \u001b[0;36mTransformerDecoderLayer.forward\u001b[1;34m(self, tgt, memory, tgt_mask, memory_mask, tgt_key_padding_mask, memory_key_padding_mask, tgt_is_causal, memory_is_causal)\u001b[0m\n",
      "\u001b[0;32m    715\u001b[0m \u001b[39melse\u001b[39;00m:\n",
      "\u001b[0;32m    716\u001b[0m     x \u001b[39m=\u001b[39m \u001b[39mself\u001b[39m\u001b[39m.\u001b[39mnorm1(x \u001b[39m+\u001b[39m \u001b[39mself\u001b[39m\u001b[39m.\u001b[39m_sa_block(x, tgt_mask, tgt_key_padding_mask, tgt_is_causal))\n",
      "\u001b[1;32m--> 717\u001b[0m     x \u001b[39m=\u001b[39m \u001b[39mself\u001b[39m\u001b[39m.\u001b[39mnorm2(x \u001b[39m+\u001b[39m \u001b[39mself\u001b[39;49m\u001b[39m.\u001b[39;49m_mha_block(x, memory, memory_mask, memory_key_padding_mask, memory_is_causal))\n",
      "\u001b[0;32m    718\u001b[0m     x \u001b[39m=\u001b[39m \u001b[39mself\u001b[39m\u001b[39m.\u001b[39mnorm3(x \u001b[39m+\u001b[39m \u001b[39mself\u001b[39m\u001b[39m.\u001b[39m_ff_block(x))\n",
      "\u001b[0;32m    720\u001b[0m \u001b[39mreturn\u001b[39;00m x\n",
      "\n",
      "File \u001b[1;32mc:\\Users\\divya\\anaconda3\\envs\\pytorch_cuda_py39\\lib\\site-packages\\torch\\nn\\modules\\transformer.py:735\u001b[0m, in \u001b[0;36mTransformerDecoderLayer._mha_block\u001b[1;34m(self, x, mem, attn_mask, key_padding_mask, is_causal)\u001b[0m\n",
      "\u001b[0;32m    733\u001b[0m \u001b[39mdef\u001b[39;00m \u001b[39m_mha_block\u001b[39m(\u001b[39mself\u001b[39m, x: Tensor, mem: Tensor,\n",
      "\u001b[0;32m    734\u001b[0m                attn_mask: Optional[Tensor], key_padding_mask: Optional[Tensor], is_causal: \u001b[39mbool\u001b[39m \u001b[39m=\u001b[39m \u001b[39mFalse\u001b[39;00m) \u001b[39m-\u001b[39m\u001b[39m>\u001b[39m Tensor:\n",
      "\u001b[1;32m--> 735\u001b[0m     x \u001b[39m=\u001b[39m \u001b[39mself\u001b[39;49m\u001b[39m.\u001b[39;49mmultihead_attn(x, mem, mem,\n",
      "\u001b[0;32m    736\u001b[0m                             attn_mask\u001b[39m=\u001b[39;49mattn_mask,\n",
      "\u001b[0;32m    737\u001b[0m                             key_padding_mask\u001b[39m=\u001b[39;49mkey_padding_mask,\n",
      "\u001b[0;32m    738\u001b[0m                             is_causal\u001b[39m=\u001b[39;49mis_causal,\n",
      "\u001b[0;32m    739\u001b[0m                             need_weights\u001b[39m=\u001b[39;49m\u001b[39mFalse\u001b[39;49;00m)[\u001b[39m0\u001b[39m]\n",
      "\u001b[0;32m    740\u001b[0m     \u001b[39mreturn\u001b[39;00m \u001b[39mself\u001b[39m\u001b[39m.\u001b[39mdropout2(x)\n",
      "\n",
      "File \u001b[1;32mc:\\Users\\divya\\anaconda3\\envs\\pytorch_cuda_py39\\lib\\site-packages\\torch\\nn\\modules\\module.py:1501\u001b[0m, in \u001b[0;36mModule._call_impl\u001b[1;34m(self, *args, **kwargs)\u001b[0m\n",
      "\u001b[0;32m   1496\u001b[0m \u001b[39m# If we don't have any hooks, we want to skip the rest of the logic in\u001b[39;00m\n",
      "\u001b[0;32m   1497\u001b[0m \u001b[39m# this function, and just call forward.\u001b[39;00m\n",
      "\u001b[0;32m   1498\u001b[0m \u001b[39mif\u001b[39;00m \u001b[39mnot\u001b[39;00m (\u001b[39mself\u001b[39m\u001b[39m.\u001b[39m_backward_hooks \u001b[39mor\u001b[39;00m \u001b[39mself\u001b[39m\u001b[39m.\u001b[39m_backward_pre_hooks \u001b[39mor\u001b[39;00m \u001b[39mself\u001b[39m\u001b[39m.\u001b[39m_forward_hooks \u001b[39mor\u001b[39;00m \u001b[39mself\u001b[39m\u001b[39m.\u001b[39m_forward_pre_hooks\n",
      "\u001b[0;32m   1499\u001b[0m         \u001b[39mor\u001b[39;00m _global_backward_pre_hooks \u001b[39mor\u001b[39;00m _global_backward_hooks\n",
      "\u001b[0;32m   1500\u001b[0m         \u001b[39mor\u001b[39;00m _global_forward_hooks \u001b[39mor\u001b[39;00m _global_forward_pre_hooks):\n",
      "\u001b[1;32m-> 1501\u001b[0m     \u001b[39mreturn\u001b[39;00m forward_call(\u001b[39m*\u001b[39margs, \u001b[39m*\u001b[39m\u001b[39m*\u001b[39mkwargs)\n",
      "\u001b[0;32m   1502\u001b[0m \u001b[39m# Do not call functions when jit is used\u001b[39;00m\n",
      "\u001b[0;32m   1503\u001b[0m full_backward_hooks, non_full_backward_hooks \u001b[39m=\u001b[39m [], []\n",
      "\n",
      "File \u001b[1;32mc:\\Users\\divya\\anaconda3\\envs\\pytorch_cuda_py39\\lib\\site-packages\\torch\\nn\\modules\\activation.py:1205\u001b[0m, in \u001b[0;36mMultiheadAttention.forward\u001b[1;34m(self, query, key, value, key_padding_mask, need_weights, attn_mask, average_attn_weights, is_causal)\u001b[0m\n",
      "\u001b[0;32m   1191\u001b[0m     attn_output, attn_output_weights \u001b[39m=\u001b[39m F\u001b[39m.\u001b[39mmulti_head_attention_forward(\n",
      "\u001b[0;32m   1192\u001b[0m         query, key, value, \u001b[39mself\u001b[39m\u001b[39m.\u001b[39membed_dim, \u001b[39mself\u001b[39m\u001b[39m.\u001b[39mnum_heads,\n",
      "\u001b[0;32m   1193\u001b[0m         \u001b[39mself\u001b[39m\u001b[39m.\u001b[39min_proj_weight, \u001b[39mself\u001b[39m\u001b[39m.\u001b[39min_proj_bias,\n",
      "\u001b[1;32m   (...)\u001b[0m\n",
      "\u001b[0;32m   1202\u001b[0m         average_attn_weights\u001b[39m=\u001b[39maverage_attn_weights,\n",
      "\u001b[0;32m   1203\u001b[0m         is_causal\u001b[39m=\u001b[39mis_causal)\n",
      "\u001b[0;32m   1204\u001b[0m \u001b[39melse\u001b[39;00m:\n",
      "\u001b[1;32m-> 1205\u001b[0m     attn_output, attn_output_weights \u001b[39m=\u001b[39m F\u001b[39m.\u001b[39;49mmulti_head_attention_forward(\n",
      "\u001b[0;32m   1206\u001b[0m         query, key, value, \u001b[39mself\u001b[39;49m\u001b[39m.\u001b[39;49membed_dim, \u001b[39mself\u001b[39;49m\u001b[39m.\u001b[39;49mnum_heads,\n",
      "\u001b[0;32m   1207\u001b[0m         \u001b[39mself\u001b[39;49m\u001b[39m.\u001b[39;49min_proj_weight, \u001b[39mself\u001b[39;49m\u001b[39m.\u001b[39;49min_proj_bias,\n",
      "\u001b[0;32m   1208\u001b[0m         \u001b[39mself\u001b[39;49m\u001b[39m.\u001b[39;49mbias_k, \u001b[39mself\u001b[39;49m\u001b[39m.\u001b[39;49mbias_v, \u001b[39mself\u001b[39;49m\u001b[39m.\u001b[39;49madd_zero_attn,\n",
      "\u001b[0;32m   1209\u001b[0m         \u001b[39mself\u001b[39;49m\u001b[39m.\u001b[39;49mdropout, \u001b[39mself\u001b[39;49m\u001b[39m.\u001b[39;49mout_proj\u001b[39m.\u001b[39;49mweight, \u001b[39mself\u001b[39;49m\u001b[39m.\u001b[39;49mout_proj\u001b[39m.\u001b[39;49mbias,\n",
      "\u001b[0;32m   1210\u001b[0m         training\u001b[39m=\u001b[39;49m\u001b[39mself\u001b[39;49m\u001b[39m.\u001b[39;49mtraining,\n",
      "\u001b[0;32m   1211\u001b[0m         key_padding_mask\u001b[39m=\u001b[39;49mkey_padding_mask,\n",
      "\u001b[0;32m   1212\u001b[0m         need_weights\u001b[39m=\u001b[39;49mneed_weights,\n",
      "\u001b[0;32m   1213\u001b[0m         attn_mask\u001b[39m=\u001b[39;49mattn_mask,\n",
      "\u001b[0;32m   1214\u001b[0m         average_attn_weights\u001b[39m=\u001b[39;49maverage_attn_weights,\n",
      "\u001b[0;32m   1215\u001b[0m         is_causal\u001b[39m=\u001b[39;49mis_causal)\n",
      "\u001b[0;32m   1216\u001b[0m \u001b[39mif\u001b[39;00m \u001b[39mself\u001b[39m\u001b[39m.\u001b[39mbatch_first \u001b[39mand\u001b[39;00m is_batched:\n",
      "\u001b[0;32m   1217\u001b[0m     \u001b[39mreturn\u001b[39;00m attn_output\u001b[39m.\u001b[39mtranspose(\u001b[39m1\u001b[39m, \u001b[39m0\u001b[39m), attn_output_weights\n",
      "\n",
      "File \u001b[1;32mc:\\Users\\divya\\anaconda3\\envs\\pytorch_cuda_py39\\lib\\site-packages\\torch\\nn\\functional.py:5224\u001b[0m, in \u001b[0;36mmulti_head_attention_forward\u001b[1;34m(query, key, value, embed_dim_to_check, num_heads, in_proj_weight, in_proj_bias, bias_k, bias_v, add_zero_attn, dropout_p, out_proj_weight, out_proj_bias, training, key_padding_mask, need_weights, attn_mask, use_separate_proj_weight, q_proj_weight, k_proj_weight, v_proj_weight, static_k, static_v, average_attn_weights, is_causal)\u001b[0m\n",
      "\u001b[0;32m   5222\u001b[0m \u001b[39mif\u001b[39;00m \u001b[39mnot\u001b[39;00m use_separate_proj_weight:\n",
      "\u001b[0;32m   5223\u001b[0m     \u001b[39massert\u001b[39;00m in_proj_weight \u001b[39mis\u001b[39;00m \u001b[39mnot\u001b[39;00m \u001b[39mNone\u001b[39;00m, \u001b[39m\"\u001b[39m\u001b[39muse_separate_proj_weight is False but in_proj_weight is None\u001b[39m\u001b[39m\"\u001b[39m\n",
      "\u001b[1;32m-> 5224\u001b[0m     q, k, v \u001b[39m=\u001b[39m _in_projection_packed(query, key, value, in_proj_weight, in_proj_bias)\n",
      "\u001b[0;32m   5225\u001b[0m \u001b[39melse\u001b[39;00m:\n",
      "\u001b[0;32m   5226\u001b[0m     \u001b[39massert\u001b[39;00m q_proj_weight \u001b[39mis\u001b[39;00m \u001b[39mnot\u001b[39;00m \u001b[39mNone\u001b[39;00m, \u001b[39m\"\u001b[39m\u001b[39muse_separate_proj_weight is True but q_proj_weight is None\u001b[39m\u001b[39m\"\u001b[39m\n",
      "\n",
      "File \u001b[1;32mc:\\Users\\divya\\anaconda3\\envs\\pytorch_cuda_py39\\lib\\site-packages\\torch\\nn\\functional.py:4771\u001b[0m, in \u001b[0;36m_in_projection_packed\u001b[1;34m(q, k, v, w, b)\u001b[0m\n",
      "\u001b[0;32m   4768\u001b[0m     \u001b[39mreturn\u001b[39;00m proj[\u001b[39m0\u001b[39m], proj[\u001b[39m1\u001b[39m], proj[\u001b[39m2\u001b[39m]\n",
      "\u001b[0;32m   4769\u001b[0m \u001b[39melse\u001b[39;00m:\n",
      "\u001b[0;32m   4770\u001b[0m     \u001b[39m# encoder-decoder attention\u001b[39;00m\n",
      "\u001b[1;32m-> 4771\u001b[0m     w_q, w_kv \u001b[39m=\u001b[39m w\u001b[39m.\u001b[39;49msplit([E, E \u001b[39m*\u001b[39;49m \u001b[39m2\u001b[39;49m])\n",
      "\u001b[0;32m   4772\u001b[0m     \u001b[39mif\u001b[39;00m b \u001b[39mis\u001b[39;00m \u001b[39mNone\u001b[39;00m:\n",
      "\u001b[0;32m   4773\u001b[0m         b_q \u001b[39m=\u001b[39m b_kv \u001b[39m=\u001b[39m \u001b[39mNone\u001b[39;00m\n",
      "\n",
      "File \u001b[1;32mc:\\Users\\divya\\anaconda3\\envs\\pytorch_cuda_py39\\lib\\site-packages\\torch\\_tensor.py:803\u001b[0m, in \u001b[0;36mTensor.split\u001b[1;34m(self, split_size, dim)\u001b[0m\n",
      "\u001b[0;32m    801\u001b[0m     \u001b[39mreturn\u001b[39;00m torch\u001b[39m.\u001b[39m_VF\u001b[39m.\u001b[39msplit(\u001b[39mself\u001b[39m, split_size, dim)  \u001b[39m# type: ignore[attr-defined]\u001b[39;00m\n",
      "\u001b[0;32m    802\u001b[0m \u001b[39melse\u001b[39;00m:\n",
      "\u001b[1;32m--> 803\u001b[0m     \u001b[39mreturn\u001b[39;00m torch\u001b[39m.\u001b[39;49m_VF\u001b[39m.\u001b[39;49msplit_with_sizes(\u001b[39mself\u001b[39;49m, split_size, dim)\n",
      "\n",
      "\u001b[1;31mKeyboardInterrupt\u001b[0m: "
     ]
    }
   ],
   "source": [
    "# Write testing predictions\n",
    "predictions = []\n",
    "def generate_test_file():\n",
    "    try:\n",
    "        with open(answer_filepath, 'w', encoding='utf-8') as f:\n",
    "            for idx, row in tqdm(preprocessed_test.iterrows(), total=len(preprocessed_test), ncols=100, desc='Predicting Test'):\n",
    "                sent = row['source']\n",
    "                ids = [2] + sp_tokenizer.encode(sent, 'Indian') + [3]\n",
    "                predicted_logits = greedy_decode_trf(torch.tensor(ids).unsqueeze(1), row['id'], model, max_len=5).squeeze().cpu().tolist()\n",
    "                prediction = sp_tokenizer.decode(predicted_logits, 'English').replace('! ','')\n",
    "                f.write(f'{row[\"id\"]}\\t\"{prediction}\"\\n')\n",
    "                f.flush()\n",
    "                predictions.append(f'{row[\"id\"]}\\t\"{prediction}\"\\n')  \n",
    "    except Exception as e:\n",
    "        raise e\n",
    "    finally:\n",
    "        f.close()\n",
    "        \n",
    "\n",
    "generate_test_file()\n",
    "answer_filepath"
   ]
  },
  {
   "cell_type": "markdown",
   "metadata": {},
   "source": [
    "##### Greedy Search Batch"
   ]
  },
  {
   "cell_type": "code",
   "execution_count": null,
   "metadata": {},
   "outputs": [],
   "source": [
    "def greedy_decode_batch(src, ids, model, src_mask, src_padding_mask, max_len=35):\n",
    "    model.eval()\n",
    "    with torch.no_grad():\n",
    "        with torch.inference_mode():\n",
    "            src = src.to(device)\n",
    "            src_mask = src_mask.to(device)\n",
    "            memory = model.encode(src, src_mask, src_padding_mask)\n",
    "            ys = torch.ones(1, memory.shape[1]).fill_(2).type(torch.long).to(device)\n",
    "            for i in range(max_len-1):\n",
    "                tgt_mask = (generate_square_subsequent_mask(ys.size(0)).type(torch.bool)).to(device)\n",
    "                out = model.decode(ys, memory, tgt_mask)\n",
    "                # out = out.transpose(0, 1)\n",
    "                prob = model.generator(out[-1, :])\n",
    "                _, next_word = torch.max(prob, dim=-1)\n",
    "                ys = torch.cat([ys,next_word.unsqueeze(0)], dim=0)\n",
    "            return ys"
   ]
  },
  {
   "cell_type": "code",
   "execution_count": null,
   "metadata": {},
   "outputs": [
    {
     "data": {
      "text/plain": [
       "60000"
      ]
     },
     "metadata": {},
     "output_type": "display_data"
    }
   ],
   "source": [
    "SOURCE_VOCAB"
   ]
  },
  {
   "cell_type": "code",
   "execution_count": null,
   "metadata": {},
   "outputs": [
    {
     "name": "stdout",
     "output_type": "stream",
     "text": [
      "torch.Size([69, 256])\n",
      "torch.Size([69, 69])\n",
      "torch.Size([256, 69])\n"
     ]
    }
   ],
   "source": [
    "\n",
    "b = next(iter(dataloader_test))\n",
    "\n",
    "src = b[0]\n",
    "src_seq_len = src.size(0)\n",
    "src_mask = torch.zeros((src_seq_len, src_seq_len)).type(torch.bool).to(device)\n",
    "src_padding_mask = (src == 0).transpose(0, 1).to(device)\n",
    "ids = b[1]\n",
    "\n",
    "print(src.size())\n",
    "print(src_mask.size())\n",
    "print(src_padding_mask.size())\n",
    "# with torch.inference_mode():\n",
    "#     print(model.transformer.encoder(model.positional_encoding(model.src_tok_emb(src)), src_mask, src_padding_mask))\n",
    "\n",
    "\n",
    "# greedy_decode_batch(src, ids, model, src_mask, src_padding_mask, max_len=src_seq_len)#.squeeze().cpu().tolist()"
   ]
  },
  {
   "cell_type": "code",
   "execution_count": null,
   "metadata": {},
   "outputs": [
    {
     "name": "stderr",
     "output_type": "stream",
     "text": [
      "Predicting Test: 100%|████████████████████████████████████████████| 448/448 [45:52<00:00,  6.14s/it]\n"
     ]
    },
    {
     "data": {
      "text/plain": [
       "'answers\\\\transformer_e1_d2_h16_sp_batch_128x1_new_vocab_exp_1\\\\answer.csv'"
      ]
     },
     "metadata": {},
     "output_type": "display_data"
    }
   ],
   "source": [
    "# Write testing predictions\n",
    "predictions = []\n",
    "def generate_test_file():\n",
    "    try:\n",
    "        for b_idx, batch in tqdm(enumerate(dataloader_test), total=len(dataloader_test), ncols=100, desc='Predicting Test'):\n",
    "            if(b_idx >= 143):\n",
    "                src = batch[0]\n",
    "                src_seq_len = src.size(0)\n",
    "                ids = batch[1]\n",
    "                src_mask = torch.zeros((src_seq_len, src_seq_len)).type(torch.bool).to(device)\n",
    "                src_padding_mask = (src == 0).transpose(0, 1).to(device)\n",
    "                predicted_logits = greedy_decode_batch(src, ids, model, src_mask, src_padding_mask, max_len=src_seq_len).squeeze().cpu().transpose(0, 1).tolist()\n",
    "                for pred, id in zip(predicted_logits, ids):\n",
    "                    pred = list(filter(lambda x: not(x in [2,3,0]), pred))\n",
    "                    prediction = sp_tokenizer.decode(pred, 'English').replace('! ','')\n",
    "                    # f.write(f'{id}\\t\"{prediction}\"\\n')\n",
    "                    # f.flush()\n",
    "                    predictions.append(f'{id}\\t\"{prediction}\"\\n')\n",
    "        with open(answer_filepath, 'w', encoding='utf-8') as f:\n",
    "            f.writelines(predictions)\n",
    "            f.flush()\n",
    "    except Exception as e:\n",
    "        raise e\n",
    "        \n",
    "\n",
    "generate_test_file()\n",
    "answer_filepath"
   ]
  },
  {
   "cell_type": "code",
   "execution_count": null,
   "metadata": {},
   "outputs": [],
   "source": [
    "with open(answer_filepath, 'w', encoding='utf-8') as f:\n",
    "    f.writelines(predictions)"
   ]
  },
  {
   "cell_type": "code",
   "execution_count": null,
   "metadata": {},
   "outputs": [
    {
     "ename": "TypeError",
     "evalue": "'_SingleProcessDataLoaderIter' object is not subscriptable",
     "output_type": "error",
     "traceback": [
      "\u001b[1;31m---------------------------------------------------------------------------\u001b[0m\n",
      "\u001b[1;31mTypeError\u001b[0m                                 Traceback (most recent call last)\n",
      "\u001b[1;32mc:\\Users\\divya\\Documents\\IITK\\Assignments\\CS779 - SNLP\\Machine translation\\Phase-2\\test6.ipynb Cell 49\u001b[0m line \u001b[0;36m1\n",
      "\u001b[1;32m----> <a href='vscode-notebook-cell:/c%3A/Users/divya/Documents/IITK/Assignments/CS779%20-%20SNLP/Machine%20translation/Phase-2/test6.ipynb#Y123sZmlsZQ%3D%3D?line=0'>1</a>\u001b[0m \u001b[39mlen\u001b[39m(\u001b[39miter\u001b[39;49m(dataloader_test)[\u001b[39m80\u001b[39;49m:])\n",
      "\n",
      "\u001b[1;31mTypeError\u001b[0m: '_SingleProcessDataLoaderIter' object is not subscriptable"
     ]
    }
   ],
   "source": [
    "len(iter(dataloader_test)[80:])\n"
   ]
  },
  {
   "cell_type": "markdown",
   "metadata": {},
   "source": [
    "##### Beam Search"
   ]
  },
  {
   "cell_type": "code",
   "execution_count": null,
   "metadata": {},
   "outputs": [],
   "source": [
    "def beam_search(model, src, W, max_len=100, device=torch.device('cpu')):\n",
    "    \"\"\"Beam Search\n",
    "\n",
    "    Args:\n",
    "        model : seq2seq model\n",
    "        src (tensor): Tensor of source sentence\n",
    "        W (int): Beam width\n",
    "        max_len (int, optional): Maximum length of sentence. Defaults to 100.\n",
    "        device: Defaults to cpu.\n",
    "\n",
    "    Returns:\n",
    "        sequence: Best found sequence\n",
    "    \"\"\"\n",
    "    with torch.no_grad():\n",
    "        # Initialize the beam\n",
    "        source = src.to(device)\n",
    "        src_seq_len = source.shape[0]\n",
    "        tgt_seq_len = max_len\n",
    "\n",
    "        src_mask = torch.zeros((src_seq_len, src_seq_len)).type(torch.bool).to(device)\n",
    "\n",
    "        src_padding_mask = (source == 0)\n",
    "        memory = model.encode(source, src_mask)\n",
    "        \n",
    "        beams = [(torch.tensor([2]), 0)]\n",
    "        \n",
    "        # Iterate over the sequence\n",
    "        for i in range(max_len):\n",
    "            new_beams = []\n",
    "            \n",
    "            # Expand the beam\n",
    "            for seq, score in beams:\n",
    "                # Get the last token in the sequence\n",
    "                last_token = seq[-1].unsqueeze(0).to(device)\n",
    "                \n",
    "                # Get the model's predictions for the next token\n",
    "                tgt_mask = (generate_square_subsequent_mask(last_token.size(0)).type(torch.bool)).to(device)\n",
    "                out = model.decode(last_token, memory, tgt_mask)\n",
    "                \n",
    "                preds = model.generator(out[-1,:])\n",
    "                \n",
    "                # Get the top W predictions and their scores\n",
    "                top_scores, top_preds = torch.topk(preds, W)\n",
    "                \n",
    "                # Add each new beam to the list\n",
    "                for j in range(W):\n",
    "                    new_seq = torch.cat([seq, top_preds[0][j].unsqueeze(0)])\n",
    "                    new_score = score + top_scores[0][j].item()\n",
    "                    new_beams.append((new_seq, new_score))\n",
    "            \n",
    "            # Sort the beams by score and keep only the top W\n",
    "            beams = sorted(new_beams, key=lambda x: x[1], reverse=True)[:W]\n",
    "            \n",
    "            # Check if any of the beams has reached the end-of-sequence token\n",
    "            for seq, score in beams:\n",
    "                if seq[-1] == 3:\n",
    "                    return seq[1:-1]\n",
    "    \n",
    "    # If no beam reaches the end-of-sequence token, return the best one so far\n",
    "    display('No beam reached EOS')\n",
    "    return beams[0][0][1:-1]\n"
   ]
  },
  {
   "cell_type": "code",
   "execution_count": null,
   "metadata": {},
   "outputs": [
    {
     "name": "stdout",
     "output_type": "stream",
     "text": [
      "बस कुछ बातों का ध्यान रखना होगा |\n",
      "Only some things need to be kept in mind .\n"
     ]
    },
    {
     "data": {
      "text/plain": [
       "'If then carefully .'"
      ]
     },
     "metadata": {},
     "output_type": "display_data"
    }
   ],
   "source": [
    "# Beam Search decoding\n",
    "test_id = 106\n",
    "cpu_device = torch.device('cpu')\n",
    "model_cpu = model.to(cpu_device)\n",
    "row = preprocessed_train.loc[preprocessed_train['source_language'] == 'Hindi']\n",
    "sent = row['source'].iloc[test_id]\n",
    "target_input = row['target'].iloc[test_id]\n",
    "ids = [2] + sp_tokenizer.encode(sent, 'Indian') + [3]\n",
    "tokens = sp_tokenizer.get_tokens(sent, 'Indian')\n",
    "# display(sent)\n",
    "# display(ids)\n",
    "# display(tokens)\n",
    "\n",
    "decoded = sp_tokenizer.decode(ids, 'English')\n",
    "# display(decoded)\n",
    "# display(row.iloc[0])\n",
    "\n",
    "print(sent)\n",
    "print(target_input)\n",
    "predicted_logits = beam_search(model_cpu, torch.tensor(ids).unsqueeze(1), W=10, max_len=len(ids)-1, device = cpu_device).squeeze().cpu().tolist()\n",
    "prediction = sp_tokenizer.decode(predicted_logits, 'English')\n",
    "display(prediction)\n",
    "# display(predicted_logits)"
   ]
  },
  {
   "cell_type": "markdown",
   "metadata": {},
   "source": [
    "#### Batched Beam search\n",
    "an attempt but unsuccessful"
   ]
  },
  {
   "cell_type": "code",
   "execution_count": null,
   "metadata": {},
   "outputs": [],
   "source": [
    "import torch\n",
    "import torch.nn.functional as F\n",
    "\n",
    "class BatchedBeamSearch:\n",
    "    def __init__(self, model, beam_width, max_sequence_length, device):\n",
    "        self.model = model\n",
    "        self.beam_width = beam_width\n",
    "        self.max_sequence_length = max_sequence_length\n",
    "        self.device = device\n",
    "\n",
    "    def search(self, source, start_token, end_token):\n",
    "        batch_size = source.size(1)  # Adjust for batch_first=False\n",
    "        input_shape = source.size()\n",
    "        \n",
    "        source = source.to(self.device)\n",
    "\n",
    "        # Initialize the beam search data structures\n",
    "        # beam_scores = torch.zeros(batch_size, self.beam_width, device=self.device)\n",
    "        # beam_seqs = torch.zeros(batch_size, self.beam_width, self.max_sequence_length, dtype=torch.long, device=self.device)\n",
    "        # beam_seqs[:, :, 0] = start_token\n",
    "        \n",
    "        # Initialize the beam search data structures with sequence-first format\n",
    "        beam_scores = torch.zeros(self.beam_width, batch_size, device=self.device)\n",
    "        beam_seqs = torch.zeros(self.beam_width, batch_size, self.max_sequence_length, dtype=torch.long, device=self.device)\n",
    "        beam_seqs[0, :, 0] = start_token\n",
    "        \n",
    "        src_seq_len = source.shape[0]\n",
    "        src_mask = torch.zeros((src_seq_len, src_seq_len)).type(torch.bool).to(device)\n",
    "\n",
    "        src_padding_mask = (source == 0)\n",
    "        memory = model.encode(source, src_mask)\n",
    "\n",
    "        for t in range(1, src_seq_len):\n",
    "            tgt_mask = (generate_square_subsequent_mask(beam_seqs.size(0)).type(torch.bool)).to(device)\n",
    "            display(beam_seqs.shape)\n",
    "            outs = self.model.decode(beam_seqs[:, :, :t], memory, tgt_mask)  # Forward pass\n",
    "            scores = self.model.generator(outs)\n",
    "            scores = F.log_softmax(scores[:, -1, :], dim=-1)  # Log probabilities for the next token\n",
    "            scores += beam_scores.unsqueeze(-1)\n",
    "\n",
    "            # Flatten the scores and find the top k indices\n",
    "            num_elements = scores.numel()\n",
    "            topk_scores, topk_indices = scores.view(-1).topk(self.beam_width, largest=True)\n",
    "\n",
    "            # Convert indices to coordinates\n",
    "            beam_indices = topk_indices // num_elements\n",
    "            token_indices = topk_indices % num_elements\n",
    "\n",
    "            # Update sequences and scores\n",
    "            beam_seqs = beam_seqs[:, beam_indices, :]\n",
    "            beam_seqs[:, :, t] = token_indices\n",
    "            beam_scores = topk_scores\n",
    "\n",
    "            # Check for sequences ending with the end_token\n",
    "            ended_sequences = beam_seqs[:, :, t] == end_token\n",
    "            if ended_sequences.any():\n",
    "                # Adjust the scores for ended sequences\n",
    "                ended_scores = beam_scores[ended_sequences]\n",
    "                beam_scores[ended_sequences] = -float('inf')\n",
    "\n",
    "                # Copy the content of ended sequences to the corresponding beam positions\n",
    "                ended_indices = ended_sequences.nonzero(as_tuple=True)\n",
    "                beam_seqs[ended_indices[0], :, t] = beam_seqs[ended_indices[0], :, t - 1]\n",
    "                beam_scores[ended_indices[0]] = ended_scores\n",
    "\n",
    "        # Get the best sequence for each batch\n",
    "        best_sequences = beam_seqs[:, :, 0]\n",
    "\n",
    "        return best_sequences\n",
    "\n",
    "# Usage example:\n",
    "# Define your sequence-to-sequence model and other parameters\n",
    "# model = YourSeq2SeqModel()\n",
    "# beam_width = 3\n",
    "# max_sequence_length = 20\n",
    "# device = torch.device(\"cuda\" if torch.cuda.is_available() else \"cpu\")\n",
    "\n",
    "# Initialize batched beam search\n",
    "# beam_search = BatchedBeamSearch(model, beam_width, max_sequence_length, device)\n",
    "\n",
    "# Provide your initial input tensor, start_token, and end_token\n",
    "# initial_input = torch.tensor([[...]], device=device)\n",
    "# start_token = start_token_id\n",
    "# end_token = end_token_id\n",
    "\n",
    "# Perform beam search\n",
    "# best_sequences = beam_search.search(initial_input, start_token, end_token)\n"
   ]
  },
  {
   "cell_type": "code",
   "execution_count": null,
   "metadata": {},
   "outputs": [
    {
     "data": {
      "text/plain": [
       "torch.Size([3, 256, 40])"
      ]
     },
     "metadata": {},
     "output_type": "display_data"
    },
    {
     "ename": "RuntimeError",
     "evalue": "The size of tensor a (256) must match the size of tensor b (3) at non-singleton dimension 1",
     "output_type": "error",
     "traceback": [
      "\u001b[1;31m---------------------------------------------------------------------------\u001b[0m\n",
      "\u001b[1;31mRuntimeError\u001b[0m                              Traceback (most recent call last)\n",
      "\u001b[1;32mc:\\Users\\divya\\Documents\\IITK\\Assignments\\CS779 - SNLP\\Machine translation\\Phase-2\\test6.ipynb Cell 53\u001b[0m line \u001b[0;36m5\n",
      "\u001b[0;32m      <a href='vscode-notebook-cell:/c%3A/Users/divya/Documents/IITK/Assignments/CS779%20-%20SNLP/Machine%20translation/Phase-2/test6.ipynb#Y105sZmlsZQ%3D%3D?line=0'>1</a>\u001b[0m bms \u001b[39m=\u001b[39m BatchedBeamSearch(model, \u001b[39m3\u001b[39m, \u001b[39m40\u001b[39m, device\u001b[39m=\u001b[39mdevice)\n",
      "\u001b[0;32m      <a href='vscode-notebook-cell:/c%3A/Users/divya/Documents/IITK/Assignments/CS779%20-%20SNLP/Machine%20translation/Phase-2/test6.ipynb#Y105sZmlsZQ%3D%3D?line=2'>3</a>\u001b[0m b \u001b[39m=\u001b[39m \u001b[39mnext\u001b[39m(\u001b[39miter\u001b[39m(dataloader_val))\n",
      "\u001b[1;32m----> <a href='vscode-notebook-cell:/c%3A/Users/divya/Documents/IITK/Assignments/CS779%20-%20SNLP/Machine%20translation/Phase-2/test6.ipynb#Y105sZmlsZQ%3D%3D?line=4'>5</a>\u001b[0m bms\u001b[39m.\u001b[39;49msearch(b[\u001b[39m0\u001b[39;49m], \u001b[39m2\u001b[39;49m, \u001b[39m3\u001b[39;49m)\n",
      "\n",
      "\u001b[1;32mc:\\Users\\divya\\Documents\\IITK\\Assignments\\CS779 - SNLP\\Machine translation\\Phase-2\\test6.ipynb Cell 53\u001b[0m line \u001b[0;36m3\n",
      "\u001b[0;32m     <a href='vscode-notebook-cell:/c%3A/Users/divya/Documents/IITK/Assignments/CS779%20-%20SNLP/Machine%20translation/Phase-2/test6.ipynb#Y105sZmlsZQ%3D%3D?line=33'>34</a>\u001b[0m tgt_mask \u001b[39m=\u001b[39m (generate_square_subsequent_mask(beam_seqs\u001b[39m.\u001b[39msize(\u001b[39m0\u001b[39m))\u001b[39m.\u001b[39mtype(torch\u001b[39m.\u001b[39mbool))\u001b[39m.\u001b[39mto(device)\n",
      "\u001b[0;32m     <a href='vscode-notebook-cell:/c%3A/Users/divya/Documents/IITK/Assignments/CS779%20-%20SNLP/Machine%20translation/Phase-2/test6.ipynb#Y105sZmlsZQ%3D%3D?line=34'>35</a>\u001b[0m display(beam_seqs\u001b[39m.\u001b[39mshape)\n",
      "\u001b[1;32m---> <a href='vscode-notebook-cell:/c%3A/Users/divya/Documents/IITK/Assignments/CS779%20-%20SNLP/Machine%20translation/Phase-2/test6.ipynb#Y105sZmlsZQ%3D%3D?line=35'>36</a>\u001b[0m outs \u001b[39m=\u001b[39m \u001b[39mself\u001b[39;49m\u001b[39m.\u001b[39;49mmodel\u001b[39m.\u001b[39;49mdecode(beam_seqs[:, :, :t], memory, tgt_mask)  \u001b[39m# Forward pass\u001b[39;00m\n",
      "\u001b[0;32m     <a href='vscode-notebook-cell:/c%3A/Users/divya/Documents/IITK/Assignments/CS779%20-%20SNLP/Machine%20translation/Phase-2/test6.ipynb#Y105sZmlsZQ%3D%3D?line=36'>37</a>\u001b[0m scores \u001b[39m=\u001b[39m \u001b[39mself\u001b[39m\u001b[39m.\u001b[39mmodel\u001b[39m.\u001b[39mgenerator(outs)\n",
      "\u001b[0;32m     <a href='vscode-notebook-cell:/c%3A/Users/divya/Documents/IITK/Assignments/CS779%20-%20SNLP/Machine%20translation/Phase-2/test6.ipynb#Y105sZmlsZQ%3D%3D?line=37'>38</a>\u001b[0m scores \u001b[39m=\u001b[39m F\u001b[39m.\u001b[39mlog_softmax(scores[:, \u001b[39m-\u001b[39m\u001b[39m1\u001b[39m, :], dim\u001b[39m=\u001b[39m\u001b[39m-\u001b[39m\u001b[39m1\u001b[39m)  \u001b[39m# Log probabilities for the next token\u001b[39;00m\n",
      "\n",
      "\u001b[1;32mc:\\Users\\divya\\Documents\\IITK\\Assignments\\CS779 - SNLP\\Machine translation\\Phase-2\\test6.ipynb Cell 53\u001b[0m line \u001b[0;36m7\n",
      "\u001b[0;32m     <a href='vscode-notebook-cell:/c%3A/Users/divya/Documents/IITK/Assignments/CS779%20-%20SNLP/Machine%20translation/Phase-2/test6.ipynb#Y105sZmlsZQ%3D%3D?line=75'>76</a>\u001b[0m \u001b[39mdef\u001b[39;00m \u001b[39mdecode\u001b[39m(\u001b[39mself\u001b[39m, tgt: Tensor, memory: Tensor, tgt_mask: Tensor):\n",
      "\u001b[1;32m---> <a href='vscode-notebook-cell:/c%3A/Users/divya/Documents/IITK/Assignments/CS779%20-%20SNLP/Machine%20translation/Phase-2/test6.ipynb#Y105sZmlsZQ%3D%3D?line=76'>77</a>\u001b[0m     \u001b[39mreturn\u001b[39;00m \u001b[39mself\u001b[39m\u001b[39m.\u001b[39mtransformer\u001b[39m.\u001b[39mdecoder(\u001b[39mself\u001b[39;49m\u001b[39m.\u001b[39;49mpositional_encoding(\n",
      "\u001b[0;32m     <a href='vscode-notebook-cell:/c%3A/Users/divya/Documents/IITK/Assignments/CS779%20-%20SNLP/Machine%20translation/Phase-2/test6.ipynb#Y105sZmlsZQ%3D%3D?line=77'>78</a>\u001b[0m                       \u001b[39mself\u001b[39;49m\u001b[39m.\u001b[39;49mtgt_tok_emb(tgt)), memory,\n",
      "\u001b[0;32m     <a href='vscode-notebook-cell:/c%3A/Users/divya/Documents/IITK/Assignments/CS779%20-%20SNLP/Machine%20translation/Phase-2/test6.ipynb#Y105sZmlsZQ%3D%3D?line=78'>79</a>\u001b[0m                       tgt_mask)\n",
      "\n",
      "File \u001b[1;32mc:\\Users\\divya\\anaconda3\\envs\\pytorch_cuda_py39\\lib\\site-packages\\torch\\nn\\modules\\module.py:1501\u001b[0m, in \u001b[0;36mModule._call_impl\u001b[1;34m(self, *args, **kwargs)\u001b[0m\n",
      "\u001b[0;32m   1496\u001b[0m \u001b[39m# If we don't have any hooks, we want to skip the rest of the logic in\u001b[39;00m\n",
      "\u001b[0;32m   1497\u001b[0m \u001b[39m# this function, and just call forward.\u001b[39;00m\n",
      "\u001b[0;32m   1498\u001b[0m \u001b[39mif\u001b[39;00m \u001b[39mnot\u001b[39;00m (\u001b[39mself\u001b[39m\u001b[39m.\u001b[39m_backward_hooks \u001b[39mor\u001b[39;00m \u001b[39mself\u001b[39m\u001b[39m.\u001b[39m_backward_pre_hooks \u001b[39mor\u001b[39;00m \u001b[39mself\u001b[39m\u001b[39m.\u001b[39m_forward_hooks \u001b[39mor\u001b[39;00m \u001b[39mself\u001b[39m\u001b[39m.\u001b[39m_forward_pre_hooks\n",
      "\u001b[0;32m   1499\u001b[0m         \u001b[39mor\u001b[39;00m _global_backward_pre_hooks \u001b[39mor\u001b[39;00m _global_backward_hooks\n",
      "\u001b[0;32m   1500\u001b[0m         \u001b[39mor\u001b[39;00m _global_forward_hooks \u001b[39mor\u001b[39;00m _global_forward_pre_hooks):\n",
      "\u001b[1;32m-> 1501\u001b[0m     \u001b[39mreturn\u001b[39;00m forward_call(\u001b[39m*\u001b[39margs, \u001b[39m*\u001b[39m\u001b[39m*\u001b[39mkwargs)\n",
      "\u001b[0;32m   1502\u001b[0m \u001b[39m# Do not call functions when jit is used\u001b[39;00m\n",
      "\u001b[0;32m   1503\u001b[0m full_backward_hooks, non_full_backward_hooks \u001b[39m=\u001b[39m [], []\n",
      "\n",
      "\u001b[1;32mc:\\Users\\divya\\Documents\\IITK\\Assignments\\CS779 - SNLP\\Machine translation\\Phase-2\\test6.ipynb Cell 53\u001b[0m line \u001b[0;36m2\n",
      "\u001b[0;32m     <a href='vscode-notebook-cell:/c%3A/Users/divya/Documents/IITK/Assignments/CS779%20-%20SNLP/Machine%20translation/Phase-2/test6.ipynb#Y105sZmlsZQ%3D%3D?line=20'>21</a>\u001b[0m \u001b[39mdef\u001b[39;00m \u001b[39mforward\u001b[39m(\u001b[39mself\u001b[39m, token_embedding: Tensor):\n",
      "\u001b[1;32m---> <a href='vscode-notebook-cell:/c%3A/Users/divya/Documents/IITK/Assignments/CS779%20-%20SNLP/Machine%20translation/Phase-2/test6.ipynb#Y105sZmlsZQ%3D%3D?line=21'>22</a>\u001b[0m     \u001b[39mreturn\u001b[39;00m \u001b[39mself\u001b[39m\u001b[39m.\u001b[39mdropout(token_embedding \u001b[39m+\u001b[39;49m \u001b[39mself\u001b[39;49m\u001b[39m.\u001b[39;49mpos_embedding[:token_embedding\u001b[39m.\u001b[39;49msize(\u001b[39m0\u001b[39;49m), :])\n",
      "\n",
      "\u001b[1;31mRuntimeError\u001b[0m: The size of tensor a (256) must match the size of tensor b (3) at non-singleton dimension 1"
     ]
    }
   ],
   "source": [
    "bms = BatchedBeamSearch(model, 3, 40, device=device)\n",
    "\n",
    "b = next(iter(dataloader_val))\n",
    "\n",
    "bms.search(b[0], 2, 3)"
   ]
  }
 ],
 "metadata": {
  "kernelspec": {
   "display_name": "pytorch_cuda_py39",
   "language": "python",
   "name": "python3"
  },
  "language_info": {
   "codemirror_mode": {
    "name": "ipython",
    "version": 3
   },
   "file_extension": ".py",
   "mimetype": "text/x-python",
   "name": "python",
   "nbconvert_exporter": "python",
   "pygments_lexer": "ipython3",
   "version": "3.9.17"
  }
 },
 "nbformat": 4,
 "nbformat_minor": 2
}
